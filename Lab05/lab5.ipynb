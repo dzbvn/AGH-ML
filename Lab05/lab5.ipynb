{
 "cells": [
  {
   "cell_type": "code",
   "execution_count": 43,
   "id": "66000534-89d5-45f8-8d88-173eebb6ce34",
   "metadata": {
    "pycharm": {
     "is_executing": true
    }
   },
   "outputs": [],
   "source": [
    "from sklearn import datasets\n",
    "data_breast_cancer = datasets.load_breast_cancer(as_frame=True)\n",
    "#print(data_breast_cancer['DESCR'])"
   ]
  },
  {
   "cell_type": "code",
   "execution_count": 44,
   "id": "edc70e16-a596-4785-88b4-37c26c606d94",
   "metadata": {
    "pycharm": {
     "is_executing": true
    }
   },
   "outputs": [
    {
     "data": {
      "text/plain": [
       "DecisionTreeClassifier(max_depth=4)"
      ]
     },
     "execution_count": 44,
     "metadata": {},
     "output_type": "execute_result"
    }
   ],
   "source": [
    "from sklearn.tree import DecisionTreeClassifier\n",
    "X_cancer = data_breast_cancer['data'][['mean texture', 'mean symmetry']]\n",
    "y_cancer = data_breast_cancer['target']\n",
    "\n",
    "from sklearn.model_selection import train_test_split\n",
    "X_cancer_train, X_cancer_test, y_cancer_train, y_cancer_test = train_test_split(X_cancer, y_cancer, test_size=0.2, random_state=21)\n",
    "\n",
    "from sklearn.metrics import f1_score\n",
    "'''for i in range(20):\n",
    "    tree_clf = DecisionTreeClassifier(max_depth=i+1)\n",
    "    tree_clf.fit(X_cancer_train, y_cancer_train)\n",
    "    #print(data_breast_cancer.feature_names)\n",
    "    print(tree_clf.max_depth)\n",
    "    print(f1_score(y_cancer_test, tree_clf.predict(X_cancer_test)))\n",
    "    print(f1_score(y_cancer_train, tree_clf.predict(X_cancer_train)))'''\n",
    "#best max_depth = 4\n",
    "    \n",
    "tree_clf = DecisionTreeClassifier(max_depth=4)\n",
    "tree_clf.fit(X_cancer_train, y_cancer_train)"
   ]
  },
  {
   "cell_type": "code",
   "execution_count": 45,
   "id": "c6297859-c26e-4b56-950f-6319224ca593",
   "metadata": {
    "pycharm": {
     "is_executing": true
    }
   },
   "outputs": [],
   "source": [
    "from sklearn.tree import export_graphviz\n",
    "f = \"bc\"\n",
    "export_graphviz(\n",
    "        tree_clf,\n",
    "        out_file=f,\n",
    "        feature_names=data_breast_cancer.feature_names[[1, 8]],\n",
    "        class_names=[str(num)+\", \"+name\n",
    "                     for num,name in\n",
    "                     zip(set(data_breast_cancer.target),data_breast_cancer.target_names)],\n",
    "        rounded=True,\n",
    "        filled=True) \n"
   ]
  },
  {
   "cell_type": "code",
   "execution_count": 46,
   "id": "61f8e045-90bd-4cbe-8ebc-976c8f2446ba",
   "metadata": {
    "pycharm": {
     "is_executing": true
    }
   },
   "outputs": [
    {
     "name": "stdout",
     "output_type": "stream",
     "text": [
      "bc.png\n",
      "4\n"
     ]
    }
   ],
   "source": [
    "import graphviz\n",
    "print(graphviz.render('dot', 'png', f))\n",
    "print(tree_clf.max_depth)"
   ]
  },
  {
   "cell_type": "code",
   "execution_count": 47,
   "id": "ebeed18a-f169-48ea-91fd-2e26f0f3bfc7",
   "metadata": {
    "pycharm": {
     "is_executing": true
    }
   },
   "outputs": [
    {
     "name": "stdout",
     "output_type": "stream",
     "text": [
      "0.8419301164725458 0.8421052631578949\n",
      "0.7912087912087912 0.7894736842105263\n",
      "[4, 0.8419301164725458, 0.8421052631578949, 0.7912087912087912, 0.7894736842105263]\n"
     ]
    }
   ],
   "source": [
    "from sklearn.metrics import f1_score\n",
    "from sklearn.metrics import accuracy_score\n",
    "\n",
    "#zbior uczacy f1 score\n",
    "f1_score_train = f1_score(y_cancer_train, tree_clf.predict(X_cancer_train))\n",
    "\n",
    "#zbior testujacy f1 score\n",
    "f1_score_test = f1_score(y_cancer_test, tree_clf.predict(X_cancer_test))\n",
    "\n",
    "print(f1_score_train, f1_score_test)\n",
    "\n",
    "#zbiór uczący accuracy\n",
    "y_train_pred = tree_clf.predict(X_cancer_train)\n",
    "acc_train = accuracy_score(y_cancer_train, y_train_pred)\n",
    "\n",
    "#zbiór testujący accuracy\n",
    "y_test_pred = tree_clf.predict(X_cancer_test)\n",
    "acc_test = accuracy_score(y_cancer_test, y_test_pred)\n",
    "\n",
    "print(acc_train, acc_test)\n",
    "\n",
    "cancer_res_list = [tree_clf.max_depth, f1_score_train, f1_score_test, acc_train, acc_test]\n",
    "print(cancer_res_list)"
   ]
  },
  {
   "cell_type": "code",
   "execution_count": 48,
   "id": "f9e59dd1",
   "metadata": {
    "pycharm": {
     "is_executing": true
    }
   },
   "outputs": [],
   "source": [
    "import pickle\n",
    "with open('f1acc_tree.pkl', 'wb') as fp:\n",
    "    pickle.dump(cancer_res_list, fp)"
   ]
  },
  {
   "cell_type": "code",
   "execution_count": 49,
   "id": "5cfc631e",
   "metadata": {},
   "outputs": [
    {
     "data": {
      "text/plain": [
       "<AxesSubplot:xlabel='x', ylabel='y'>"
      ]
     },
     "execution_count": 49,
     "metadata": {},
     "output_type": "execute_result"
    },
    {
     "data": {
      "image/png": "[encoded data removed]",
      "text/plain": [
       "<Figure size 432x288 with 1 Axes>"
      ]
     },
     "metadata": {
      "needs_background": "light"
     },
     "output_type": "display_data"
    }
   ],
   "source": [
    "import numpy as np\n",
    "import pandas as pd\n",
    "\n",
    "size = 300\n",
    "\n",
    "np.random.seed(54)\n",
    "X = np.random.rand(size)*5-2.5\n",
    "w4, w3, w2, w1, w0 = 1, 2, 1, -4, 2\n",
    "y = w4*(X**4) + w3*(X**3) + w2*(X**2) + w1*X + w0 + np.random.randn(size)*8-4 \n",
    "df = pd.DataFrame({'x': X, 'y': y})\n",
    "df.plot.scatter(x='x',y='y')"
   ]
  },
  {
   "cell_type": "code",
   "execution_count": 50,
   "id": "661aac7b-6172-425e-9591-e1ae95cfff08",
   "metadata": {
    "pycharm": {
     "is_executing": true
    }
   },
   "outputs": [],
   "source": [
    "from sklearn.model_selection import train_test_split\n",
    "X_reg_train, X_reg_test, y_reg_train, y_reg_test = train_test_split(X, y, test_size=0.2, random_state=100)"
   ]
  },
  {
   "cell_type": "code",
   "execution_count": 51,
   "id": "7d371540",
   "metadata": {
    "pycharm": {
     "is_executing": true
    }
   },
   "outputs": [],
   "source": [
    "from sklearn.metrics import mean_squared_error\n",
    "from sklearn.tree import DecisionTreeRegressor\n",
    "\n",
    "#for i in range(20):\n",
    "    #tree_reg = DecisionTreeRegressor(max_depth=i+1)\n",
    "    #tree_reg.fit(X_reg_train.reshape(-1, 1), y_reg_train)\n",
    "    #print(tree_reg)\n",
    "    #print(mean_squared_error(y_reg_test, tree_reg.predict(X_reg_test.reshape(-1, 1))))\n",
    "    #print(mean_squared_error(y_reg_train, tree_reg.predict(X_reg_train.reshape(-1, 1))))\n",
    "#best max_depth=3"
   ]
  },
  {
   "cell_type": "code",
   "execution_count": 52,
   "id": "8f08eb80-06f4-4824-9e6f-0d2db4520018",
   "metadata": {
    "pycharm": {
     "is_executing": true
    }
   },
   "outputs": [
    {
     "data": {
      "text/plain": [
       "array([-1.85059029])"
      ]
     },
     "execution_count": 52,
     "metadata": {},
     "output_type": "execute_result"
    }
   ],
   "source": [
    "from sklearn.tree import DecisionTreeRegressor\n",
    "tree_reg = DecisionTreeRegressor(max_depth=3)\n",
    "tree_reg.fit(X_reg_train.reshape(-1, 1), y_reg_train)\n",
    "tree_reg.predict([[1]])"
   ]
  },
  {
   "cell_type": "code",
   "execution_count": 53,
   "id": "fb3a83f4",
   "metadata": {},
   "outputs": [
    {
     "name": "stdout",
     "output_type": "stream",
     "text": [
      "[3, 62.15310237780263, 47.41729899746062]\n"
     ]
    }
   ],
   "source": [
    "mse_test = mean_squared_error(y_reg_test, tree_reg.predict(X_reg_test.reshape(-1, 1)))\n",
    "mse_train = mean_squared_error(y_reg_train, tree_reg.predict(X_reg_train.reshape(-1, 1)))\n",
    "tree_res_list = [tree_reg.max_depth, mse_train, mse_test]\n",
    "print(tree_res_list)"
   ]
  },
  {
   "cell_type": "code",
   "execution_count": 54,
   "id": "8c7ff0d9-7544-4638-a1e9-46220954c2e5",
   "metadata": {
    "pycharm": {
     "is_executing": true
    }
   },
   "outputs": [],
   "source": [
    "from sklearn.tree import export_graphviz\n",
    "f = \"reg\"\n",
    "export_graphviz(\n",
    "        tree_reg,\n",
    "        out_file=f,\n",
    "        \n",
    "        rounded=True,\n",
    "        filled=True) \n"
   ]
  },
  {
   "cell_type": "code",
   "execution_count": 55,
   "id": "3d5b4d6b-65f7-40d4-9157-958a1336f0d9",
   "metadata": {
    "pycharm": {
     "is_executing": true
    }
   },
   "outputs": [
    {
     "name": "stdout",
     "output_type": "stream",
     "text": [
      "reg.png\n"
     ]
    }
   ],
   "source": [
    "import graphviz\n",
    "print(graphviz.render('dot', 'png', f))"
   ]
  },
  {
   "cell_type": "code",
   "execution_count": 56,
   "id": "1196a9ce",
   "metadata": {},
   "outputs": [],
   "source": [
    "import pickle\n",
    "with open('mse_tree.pkl ', 'wb') as fp:\n",
    "    pickle.dump(tree_res_list, fp)"
   ]
  }
 ],
 "metadata": {
  "kernelspec": {
   "display_name": "Python 3 (ipykernel)",
   "language": "python",
   "name": "python3"
  },
  "language_info": {
   "codemirror_mode": {
    "name": "ipython",
    "version": 3
   },
   "file_extension": ".py",
   "mimetype": "text/x-python",
   "name": "python",
   "nbconvert_exporter": "python",
   "pygments_lexer": "ipython3",
   "version": "3.9.9"
  }
 },
 "nbformat": 4,
 "nbformat_minor": 5
}