{
 "cells": [
  {
   "cell_type": "code",
   "execution_count": 554,
   "metadata": {},
   "outputs": [],
   "source": [
    "import sklearn.neighbors\n",
    "from sklearn import datasets\n",
    "data_breast_cancer = datasets.load_breast_cancer(as_frame=True)"
   ]
  },
  {
   "cell_type": "code",
   "execution_count": 555,
   "metadata": {
    "pycharm": {
     "name": "#%%\n"
    }
   },
   "outputs": [],
   "source": [
    "X_cancer = data_breast_cancer['data'][['mean texture', 'mean symmetry']]\n",
    "y_cancer = data_breast_cancer['target']"
   ]
  },
  {
   "cell_type": "code",
   "execution_count": 556,
   "metadata": {
    "pycharm": {
     "name": "#%%\n"
    }
   },
   "outputs": [],
   "source": [
    "from sklearn.model_selection import train_test_split\n",
    "X_cancer_train, X_cancer_test, y_cancer_train, y_cancer_test = train_test_split(X_cancer, y_cancer, test_size=0.2, random_state=21)"
   ]
  },
  {
   "cell_type": "code",
   "execution_count": 557,
   "metadata": {
    "pycharm": {
     "name": "#%%\n"
    }
   },
   "outputs": [
    {
     "data": {
      "text/plain": [
       "VotingClassifier(estimators=[('dt', DecisionTreeClassifier()),\n",
       "                             ('lr', LogisticRegression()),\n",
       "                             ('knn', KNeighborsClassifier())],\n",
       "                 voting='soft')"
      ]
     },
     "execution_count": 557,
     "metadata": {},
     "output_type": "execute_result"
    }
   ],
   "source": [
    "from sklearn.tree import DecisionTreeClassifier\n",
    "from sklearn.linear_model import LogisticRegression\n",
    "from sklearn.ensemble import VotingClassifier\n",
    "from sklearn.neighbors import KNeighborsClassifier\n",
    "\n",
    "tree_clf = DecisionTreeClassifier()\n",
    "\n",
    "log_clf = LogisticRegression()\n",
    "\n",
    "knn_clf = sklearn.neighbors.KNeighborsClassifier()\n",
    "\n",
    "voting_hard_clf = VotingClassifier(\n",
    "    estimators=[('dt', tree_clf),\n",
    "                ('lr', log_clf),\n",
    "                ('knn', knn_clf)],\n",
    "    voting='hard')\n",
    "\n",
    "voting_soft_clf = VotingClassifier(\n",
    "    estimators=[('dt', tree_clf),\n",
    "                ('lr', log_clf),\n",
    "                ('knn', knn_clf)],\n",
    "    voting='soft')\n",
    "\n",
    "voting_hard_clf.fit(X_cancer_train, y_cancer_train)\n",
    "voting_soft_clf.fit(X_cancer_train, y_cancer_train)"
   ]
  },
  {
   "cell_type": "code",
   "execution_count": 558,
   "metadata": {
    "pycharm": {
     "name": "#%%\n"
    }
   },
   "outputs": [
    {
     "data": {
      "text/plain": [
       "array([1, 1, 1, 1, 1, 1, 0, 0, 0, 1, 1, 1, 1, 1, 0, 1, 1, 1, 1, 1, 0, 1,\n",
       "       1, 1, 1, 1, 1, 1, 0, 0, 1, 1, 1, 0, 1, 0, 1, 1, 1, 0, 1, 0, 1, 1,\n",
       "       1, 1, 0, 0, 1, 0, 1, 1, 1, 0, 1, 0, 0, 1, 0, 1, 0, 1, 1, 0, 0, 1,\n",
       "       1, 1, 0, 1, 1, 0, 1, 1, 0, 1, 0, 1, 1, 1, 1, 1, 0, 1, 1, 1, 1, 1,\n",
       "       0, 1, 1, 1, 1, 1, 0, 1, 1, 1, 0, 0, 1, 0, 1, 1, 1, 1, 1, 1, 1, 1,\n",
       "       1, 1, 1, 1])"
      ]
     },
     "execution_count": 558,
     "metadata": {},
     "output_type": "execute_result"
    }
   ],
   "source": [
    "voting_hard_clf.predict(X_cancer_test)\n",
    "voting_soft_clf.predict(X_cancer_test)"
   ]
  },
  {
   "cell_type": "code",
   "execution_count": 559,
   "metadata": {
    "pycharm": {
     "name": "#%%\n"
    }
   },
   "outputs": [
    {
     "name": "stdout",
     "output_type": "stream",
     "text": [
      "[(1.0, 0.631578947368421), (0.6835164835164835, 0.7719298245614035), (0.7736263736263737, 0.6228070175438597), (0.8549450549450549, 0.6929824561403509), (0.9692307692307692, 0.6666666666666666)]\n"
     ]
    }
   ],
   "source": [
    "from sklearn.metrics import accuracy_score\n",
    "\n",
    "acc_list = list()\n",
    "\n",
    "for clf in (tree_clf, log_clf, knn_clf, voting_hard_clf, voting_soft_clf):\n",
    "    clf.fit(X_cancer_train, y_cancer_train)\n",
    "\n",
    "    y_pred_train = clf.predict(X_cancer_train)\n",
    "    acc_train = accuracy_score(y_cancer_train, y_pred_train)\n",
    "\n",
    "    y_pred_test = clf.predict(X_cancer_test)\n",
    "    acc_test = accuracy_score(y_cancer_test, y_pred_test)\n",
    "\n",
    "    acc_list.append((acc_train, acc_test))\n",
    "\n",
    "print(acc_list)"
   ]
  },
  {
   "cell_type": "code",
   "execution_count": 560,
   "metadata": {
    "pycharm": {
     "name": "#%%\n"
    }
   },
   "outputs": [
    {
     "name": "stdout",
     "output_type": "stream",
     "text": [
      "[DecisionTreeClassifier(), LogisticRegression(), KNeighborsClassifier(), VotingClassifier(estimators=[('dt', DecisionTreeClassifier()),\n",
      "                             ('lr', LogisticRegression()),\n",
      "                             ('knn', KNeighborsClassifier())]), VotingClassifier(estimators=[('dt', DecisionTreeClassifier()),\n",
      "                             ('lr', LogisticRegression()),\n",
      "                             ('knn', KNeighborsClassifier())],\n",
      "                 voting='soft')]\n"
     ]
    }
   ],
   "source": [
    "clf_list = [tree_clf, log_clf, knn_clf, voting_hard_clf, voting_soft_clf]\n",
    "print(clf_list)"
   ]
  },
  {
   "cell_type": "code",
   "execution_count": 561,
   "metadata": {
    "pycharm": {
     "name": "#%%\n"
    }
   },
   "outputs": [],
   "source": [
    "import pickle\n",
    "with open('acc_vote.pkl', 'wb') as fp:\n",
    "    pickle.dump(acc_list, fp)\n",
    "\n",
    "with open('vote.pkl', 'wb') as fp:\n",
    "    pickle.dump(clf_list, fp)"
   ]
  },
  {
   "cell_type": "code",
   "execution_count": 562,
   "metadata": {
    "pycharm": {
     "name": "#%%\n"
    }
   },
   "outputs": [],
   "source": [
    "from sklearn.ensemble import BaggingClassifier\n",
    "from sklearn.tree import DecisionTreeClassifier\n",
    "from sklearn.ensemble import RandomForestClassifier\n",
    "from sklearn.ensemble import AdaBoostClassifier\n",
    "from sklearn.ensemble import GradientBoostingClassifier\n",
    "\n",
    "#bagging\n",
    "bag_clf = BaggingClassifier(DecisionTreeClassifier(), n_estimators=30, bootstrap=True, random_state=42)\n",
    "\n",
    "#bagging 1/2\n",
    "bag_half_clf = BaggingClassifier(DecisionTreeClassifier(), n_estimators=30, max_samples=0.5, bootstrap=True, random_state=42)\n",
    "\n",
    "#pasting\n",
    "pas_clf = BaggingClassifier(DecisionTreeClassifier(), n_estimators=30, bootstrap=False, random_state=42)\n",
    "\n",
    "#pasting 1/2\n",
    "pas_half_clf = BaggingClassifier(DecisionTreeClassifier(), n_estimators=30, max_samples=0.5, bootstrap=False, random_state=42)\n",
    "\n",
    "#random forest\n",
    "rnd_clf = RandomForestClassifier(n_estimators=30, random_state=42)\n",
    "\n",
    "#ada boost\n",
    "ada_clf = AdaBoostClassifier(n_estimators=30, random_state=42)\n",
    "\n",
    "#gradient boost\n",
    "gdt_clf = GradientBoostingClassifier(n_estimators=30, random_state=42)"
   ]
  },
  {
   "cell_type": "code",
   "execution_count": 563,
   "metadata": {
    "pycharm": {
     "name": "#%%\n"
    }
   },
   "outputs": [
    {
     "name": "stdout",
     "output_type": "stream",
     "text": [
      "[(0.9956043956043956, 0.6578947368421053), (0.9252747252747253, 0.6403508771929824), (1.0, 0.6228070175438597), (0.967032967032967, 0.6578947368421053), (0.9934065934065934, 0.631578947368421), (0.8021978021978022, 0.7456140350877193), (0.8131868131868132, 0.7719298245614035)]\n"
     ]
    }
   ],
   "source": [
    "acc_bag = list()\n",
    "for clf in (bag_clf, bag_half_clf, pas_clf, pas_half_clf, rnd_clf, ada_clf, gdt_clf):\n",
    "    clf.fit(X_cancer_train, y_cancer_train)\n",
    "\n",
    "    y_pred_train = clf.predict(X_cancer_train)\n",
    "    acc_train = accuracy_score(y_cancer_train, y_pred_train)\n",
    "\n",
    "    y_pred_test = clf.predict(X_cancer_test)\n",
    "    acc_test = accuracy_score(y_cancer_test, y_pred_test)\n",
    "\n",
    "    acc_bag.append((acc_train, acc_test))\n",
    "print(acc_bag)"
   ]
  },
  {
   "cell_type": "code",
   "execution_count": 564,
   "metadata": {
    "pycharm": {
     "name": "#%%\n"
    }
   },
   "outputs": [],
   "source": [
    "bag_list = [bag_clf, bag_half_clf, pas_clf, pas_half_clf, rnd_clf, ada_clf, gdt_clf]"
   ]
  },
  {
   "cell_type": "code",
   "execution_count": 565,
   "metadata": {
    "pycharm": {
     "name": "#%%\n"
    }
   },
   "outputs": [],
   "source": [
    "with open('acc_bag.pkl', 'wb') as fp:\n",
    "    pickle.dump(acc_bag, fp)\n",
    "\n",
    "with open('bag.pkl', 'wb') as fp:\n",
    "    pickle.dump(bag_list, fp)"
   ]
  },
  {
   "cell_type": "code",
   "execution_count": 566,
   "metadata": {
    "pycharm": {
     "name": "#%%\n"
    }
   },
   "outputs": [],
   "source": [
    "X = data_breast_cancer['data']\n",
    "y = data_breast_cancer['target']\n",
    "\n",
    "X_train, X_test, y_train, y_test = train_test_split(X, y, test_size=0.2, random_state=21)\n"
   ]
  },
  {
   "cell_type": "code",
   "execution_count": 567,
   "metadata": {
    "pycharm": {
     "name": "#%%\n"
    }
   },
   "outputs": [
    {
     "name": "stdout",
     "output_type": "stream",
     "text": [
      "[0.9978021978021978, 0.956140350877193]\n"
     ]
    }
   ],
   "source": [
    "clf = BaggingClassifier(DecisionTreeClassifier(), n_estimators=30, max_samples=0.5, max_features=2, bootstrap_features=False, bootstrap=True, random_state=42)\n",
    "clf.fit(X_train, y_train)\n",
    "\n",
    "y_pred_train = clf.predict(X_train)\n",
    "acc_train = accuracy_score(y_train, y_pred_train)\n",
    "\n",
    "y_pred_test = clf.predict(X_test)\n",
    "acc_test = accuracy_score(y_test, y_pred_test)\n",
    "\n",
    "acc_fea = [acc_train, acc_test]\n",
    "fea = [clf]\n",
    "print(acc_fea)"
   ]
  },
  {
   "cell_type": "code",
   "execution_count": 568,
   "metadata": {
    "pycharm": {
     "name": "#%%\n"
    }
   },
   "outputs": [],
   "source": [
    "with open('acc_fea.pkl', 'wb') as fp:\n",
    "    pickle.dump(acc_fea, fp)\n",
    "\n",
    "with open('fea.pkl', 'wb') as fp:\n",
    "    pickle.dump(fea, fp)"
   ]
  },
  {
   "cell_type": "code",
   "execution_count": 569,
   "metadata": {
    "pycharm": {
     "name": "#%%\n"
    }
   },
   "outputs": [
    {
     "name": "stdout",
     "output_type": "stream",
     "text": [
      "DecisionTreeClassifier(random_state=1952926171) [25 17]\n",
      "DecisionTreeClassifier(random_state=1761383086) [0 6]\n",
      "DecisionTreeClassifier(random_state=1449071958) [16 19]\n",
      "DecisionTreeClassifier(random_state=1910541088) [ 9 16]\n",
      "DecisionTreeClassifier(random_state=1341730541) [23  9]\n",
      "DecisionTreeClassifier(random_state=1286572245) [ 0 12]\n",
      "DecisionTreeClassifier(random_state=1005142668) [22  4]\n",
      "DecisionTreeClassifier(random_state=502852014) [17 13]\n",
      "DecisionTreeClassifier(random_state=186414760) [ 1 25]\n",
      "DecisionTreeClassifier(random_state=1956263048) [ 3 20]\n",
      "DecisionTreeClassifier(random_state=15592051) [26 21]\n",
      "DecisionTreeClassifier(random_state=1628376228) [20 13]\n",
      "DecisionTreeClassifier(random_state=1638437331) [18 24]\n",
      "DecisionTreeClassifier(random_state=116435712) [12 20]\n",
      "DecisionTreeClassifier(random_state=588556688) [26 29]\n",
      "DecisionTreeClassifier(random_state=358068376) [29  3]\n",
      "DecisionTreeClassifier(random_state=67998415) [ 4 12]\n",
      "DecisionTreeClassifier(random_state=825108120) [9 1]\n",
      "DecisionTreeClassifier(random_state=1237545031) [14 21]\n",
      "DecisionTreeClassifier(random_state=1708477288) [27 17]\n",
      "DecisionTreeClassifier(random_state=420198453) [22 18]\n",
      "DecisionTreeClassifier(random_state=1930947788) [ 1 15]\n",
      "DecisionTreeClassifier(random_state=1419989711) [12 14]\n",
      "DecisionTreeClassifier(random_state=1242586904) [8 4]\n",
      "DecisionTreeClassifier(random_state=1836411051) [16  5]\n",
      "DecisionTreeClassifier(random_state=1419187828) [13  9]\n",
      "DecisionTreeClassifier(random_state=1418767096) [0 5]\n",
      "DecisionTreeClassifier(random_state=694812580) [ 8 17]\n",
      "DecisionTreeClassifier(random_state=1521681307) [21 19]\n",
      "DecisionTreeClassifier(random_state=649915709) [16 13]\n"
     ]
    }
   ],
   "source": [
    "res = list()\n",
    "\n",
    "for estimator, features in zip(clf.estimators_, clf.estimators_features_):\n",
    "    print(estimator, features)\n",
    "\n",
    "    y_pred_train = estimator.predict(X_train.iloc[:, features].values)\n",
    "    acc_train = accuracy_score(y_train, y_pred_train)\n",
    "\n",
    "    y_pred_test = estimator.predict(X_test.iloc[:, features].values)\n",
    "    acc_test = accuracy_score(y_test, y_pred_test)\n",
    "\n",
    "    res.append([acc_train, acc_test, list(X.columns[features])])\n",
    "\n"
   ]
  },
  {
   "cell_type": "code",
   "execution_count": 570,
   "metadata": {
    "pycharm": {
     "name": "#%%\n"
    }
   },
   "outputs": [
    {
     "name": "stdout",
     "output_type": "stream",
     "text": [
      "[[0.8351648351648352, 0.7192982456140351, ['worst compactness', 'concave points error']], [0.9362637362637363, 0.8859649122807017, ['mean radius', 'mean concavity']], [0.7802197802197802, 0.6842105263157895, ['concavity error', 'fractal dimension error']], [0.8, 0.7017543859649122, ['mean fractal dimension', 'concavity error']], [0.9516483516483516, 0.9035087719298246, ['worst area', 'mean fractal dimension']], [0.9010989010989011, 0.8508771929824561, ['mean radius', 'perimeter error']], [0.9274725274725275, 0.868421052631579, ['worst perimeter', 'mean smoothness']], [0.9252747252747253, 0.7894736842105263, ['concave points error', 'area error']], [0.8637362637362638, 0.7982456140350878, ['mean texture', 'worst compactness']], [0.945054945054945, 0.868421052631579, ['mean area', 'worst radius']], [0.8835164835164835, 0.8859649122807017, ['worst concavity', 'worst texture']], [0.9472527472527472, 0.8596491228070176, ['worst radius', 'area error']], [0.7978021978021979, 0.6491228070175439, ['symmetry error', 'worst smoothness']], [0.9296703296703297, 0.8421052631578947, ['perimeter error', 'worst radius']], [0.8681318681318682, 0.8771929824561403, ['worst concavity', 'worst fractal dimension']], [0.9538461538461539, 0.8771929824561403, ['worst fractal dimension', 'mean area']], [0.8593406593406593, 0.7719298245614035, ['mean smoothness', 'perimeter error']], [0.7758241758241758, 0.6929824561403509, ['mean fractal dimension', 'mean texture']], [0.7384615384615385, 0.6403508771929824, ['smoothness error', 'worst texture']], [0.9032967032967033, 0.8859649122807017, ['worst concave points', 'concave points error']], [0.9296703296703297, 0.8157894736842105, ['worst perimeter', 'symmetry error']], [0.7956043956043956, 0.6929824561403509, ['mean texture', 'compactness error']], [0.8395604395604396, 0.8157894736842105, ['perimeter error', 'smoothness error']], [0.7714285714285715, 0.6140350877192983, ['mean symmetry', 'mean smoothness']], [0.8351648351648352, 0.8421052631578947, ['concavity error', 'mean compactness']], [0.8923076923076924, 0.7894736842105263, ['area error', 'mean fractal dimension']], [0.9296703296703297, 0.8508771929824561, ['mean radius', 'mean compactness']], [0.789010989010989, 0.6403508771929824, ['mean symmetry', 'concave points error']], [0.7868131868131868, 0.631578947368421, ['worst texture', 'fractal dimension error']], [0.8879120879120879, 0.7456140350877193, ['concavity error', 'area error']]]\n"
     ]
    },
    {
     "data": {
      "text/html": [
       "<div>\n",
       "<style scoped>\n",
       "    .dataframe tbody tr th:only-of-type {\n",
       "        vertical-align: middle;\n",
       "    }\n",
       "\n",
       "    .dataframe tbody tr th {\n",
       "        vertical-align: top;\n",
       "    }\n",
       "\n",
       "    .dataframe thead th {\n",
       "        text-align: right;\n",
       "    }\n",
       "</style>\n",
       "<table border=\"1\" class=\"dataframe\">\n",
       "  <thead>\n",
       "    <tr style=\"text-align: right;\">\n",
       "      <th></th>\n",
       "      <th>Train accuracy</th>\n",
       "      <th>Test accuracy</th>\n",
       "      <th>Features</th>\n",
       "    </tr>\n",
       "  </thead>\n",
       "  <tbody>\n",
       "    <tr>\n",
       "      <th>4</th>\n",
       "      <td>0.951648</td>\n",
       "      <td>0.903509</td>\n",
       "      <td>[worst area, mean fractal dimension]</td>\n",
       "    </tr>\n",
       "    <tr>\n",
       "      <th>1</th>\n",
       "      <td>0.936264</td>\n",
       "      <td>0.885965</td>\n",
       "      <td>[mean radius, mean concavity]</td>\n",
       "    </tr>\n",
       "    <tr>\n",
       "      <th>19</th>\n",
       "      <td>0.903297</td>\n",
       "      <td>0.885965</td>\n",
       "      <td>[worst concave points, concave points error]</td>\n",
       "    </tr>\n",
       "    <tr>\n",
       "      <th>10</th>\n",
       "      <td>0.883516</td>\n",
       "      <td>0.885965</td>\n",
       "      <td>[worst concavity, worst texture]</td>\n",
       "    </tr>\n",
       "    <tr>\n",
       "      <th>15</th>\n",
       "      <td>0.953846</td>\n",
       "      <td>0.877193</td>\n",
       "      <td>[worst fractal dimension, mean area]</td>\n",
       "    </tr>\n",
       "    <tr>\n",
       "      <th>14</th>\n",
       "      <td>0.868132</td>\n",
       "      <td>0.877193</td>\n",
       "      <td>[worst concavity, worst fractal dimension]</td>\n",
       "    </tr>\n",
       "    <tr>\n",
       "      <th>9</th>\n",
       "      <td>0.945055</td>\n",
       "      <td>0.868421</td>\n",
       "      <td>[mean area, worst radius]</td>\n",
       "    </tr>\n",
       "    <tr>\n",
       "      <th>6</th>\n",
       "      <td>0.927473</td>\n",
       "      <td>0.868421</td>\n",
       "      <td>[worst perimeter, mean smoothness]</td>\n",
       "    </tr>\n",
       "    <tr>\n",
       "      <th>11</th>\n",
       "      <td>0.947253</td>\n",
       "      <td>0.859649</td>\n",
       "      <td>[worst radius, area error]</td>\n",
       "    </tr>\n",
       "    <tr>\n",
       "      <th>26</th>\n",
       "      <td>0.929670</td>\n",
       "      <td>0.850877</td>\n",
       "      <td>[mean radius, mean compactness]</td>\n",
       "    </tr>\n",
       "    <tr>\n",
       "      <th>5</th>\n",
       "      <td>0.901099</td>\n",
       "      <td>0.850877</td>\n",
       "      <td>[mean radius, perimeter error]</td>\n",
       "    </tr>\n",
       "    <tr>\n",
       "      <th>13</th>\n",
       "      <td>0.929670</td>\n",
       "      <td>0.842105</td>\n",
       "      <td>[perimeter error, worst radius]</td>\n",
       "    </tr>\n",
       "    <tr>\n",
       "      <th>24</th>\n",
       "      <td>0.835165</td>\n",
       "      <td>0.842105</td>\n",
       "      <td>[concavity error, mean compactness]</td>\n",
       "    </tr>\n",
       "    <tr>\n",
       "      <th>20</th>\n",
       "      <td>0.929670</td>\n",
       "      <td>0.815789</td>\n",
       "      <td>[worst perimeter, symmetry error]</td>\n",
       "    </tr>\n",
       "    <tr>\n",
       "      <th>22</th>\n",
       "      <td>0.839560</td>\n",
       "      <td>0.815789</td>\n",
       "      <td>[perimeter error, smoothness error]</td>\n",
       "    </tr>\n",
       "    <tr>\n",
       "      <th>8</th>\n",
       "      <td>0.863736</td>\n",
       "      <td>0.798246</td>\n",
       "      <td>[mean texture, worst compactness]</td>\n",
       "    </tr>\n",
       "    <tr>\n",
       "      <th>7</th>\n",
       "      <td>0.925275</td>\n",
       "      <td>0.789474</td>\n",
       "      <td>[concave points error, area error]</td>\n",
       "    </tr>\n",
       "    <tr>\n",
       "      <th>25</th>\n",
       "      <td>0.892308</td>\n",
       "      <td>0.789474</td>\n",
       "      <td>[area error, mean fractal dimension]</td>\n",
       "    </tr>\n",
       "    <tr>\n",
       "      <th>16</th>\n",
       "      <td>0.859341</td>\n",
       "      <td>0.771930</td>\n",
       "      <td>[mean smoothness, perimeter error]</td>\n",
       "    </tr>\n",
       "    <tr>\n",
       "      <th>29</th>\n",
       "      <td>0.887912</td>\n",
       "      <td>0.745614</td>\n",
       "      <td>[concavity error, area error]</td>\n",
       "    </tr>\n",
       "    <tr>\n",
       "      <th>0</th>\n",
       "      <td>0.835165</td>\n",
       "      <td>0.719298</td>\n",
       "      <td>[worst compactness, concave points error]</td>\n",
       "    </tr>\n",
       "    <tr>\n",
       "      <th>3</th>\n",
       "      <td>0.800000</td>\n",
       "      <td>0.701754</td>\n",
       "      <td>[mean fractal dimension, concavity error]</td>\n",
       "    </tr>\n",
       "    <tr>\n",
       "      <th>21</th>\n",
       "      <td>0.795604</td>\n",
       "      <td>0.692982</td>\n",
       "      <td>[mean texture, compactness error]</td>\n",
       "    </tr>\n",
       "    <tr>\n",
       "      <th>17</th>\n",
       "      <td>0.775824</td>\n",
       "      <td>0.692982</td>\n",
       "      <td>[mean fractal dimension, mean texture]</td>\n",
       "    </tr>\n",
       "    <tr>\n",
       "      <th>2</th>\n",
       "      <td>0.780220</td>\n",
       "      <td>0.684211</td>\n",
       "      <td>[concavity error, fractal dimension error]</td>\n",
       "    </tr>\n",
       "    <tr>\n",
       "      <th>12</th>\n",
       "      <td>0.797802</td>\n",
       "      <td>0.649123</td>\n",
       "      <td>[symmetry error, worst smoothness]</td>\n",
       "    </tr>\n",
       "    <tr>\n",
       "      <th>27</th>\n",
       "      <td>0.789011</td>\n",
       "      <td>0.640351</td>\n",
       "      <td>[mean symmetry, concave points error]</td>\n",
       "    </tr>\n",
       "    <tr>\n",
       "      <th>18</th>\n",
       "      <td>0.738462</td>\n",
       "      <td>0.640351</td>\n",
       "      <td>[smoothness error, worst texture]</td>\n",
       "    </tr>\n",
       "    <tr>\n",
       "      <th>28</th>\n",
       "      <td>0.786813</td>\n",
       "      <td>0.631579</td>\n",
       "      <td>[worst texture, fractal dimension error]</td>\n",
       "    </tr>\n",
       "    <tr>\n",
       "      <th>23</th>\n",
       "      <td>0.771429</td>\n",
       "      <td>0.614035</td>\n",
       "      <td>[mean symmetry, mean smoothness]</td>\n",
       "    </tr>\n",
       "  </tbody>\n",
       "</table>\n",
       "</div>"
      ],
      "text/plain": [
       "    Train accuracy  Test accuracy  \\\n",
       "4         0.951648       0.903509   \n",
       "1         0.936264       0.885965   \n",
       "19        0.903297       0.885965   \n",
       "10        0.883516       0.885965   \n",
       "15        0.953846       0.877193   \n",
       "14        0.868132       0.877193   \n",
       "9         0.945055       0.868421   \n",
       "6         0.927473       0.868421   \n",
       "11        0.947253       0.859649   \n",
       "26        0.929670       0.850877   \n",
       "5         0.901099       0.850877   \n",
       "13        0.929670       0.842105   \n",
       "24        0.835165       0.842105   \n",
       "20        0.929670       0.815789   \n",
       "22        0.839560       0.815789   \n",
       "8         0.863736       0.798246   \n",
       "7         0.925275       0.789474   \n",
       "25        0.892308       0.789474   \n",
       "16        0.859341       0.771930   \n",
       "29        0.887912       0.745614   \n",
       "0         0.835165       0.719298   \n",
       "3         0.800000       0.701754   \n",
       "21        0.795604       0.692982   \n",
       "17        0.775824       0.692982   \n",
       "2         0.780220       0.684211   \n",
       "12        0.797802       0.649123   \n",
       "27        0.789011       0.640351   \n",
       "18        0.738462       0.640351   \n",
       "28        0.786813       0.631579   \n",
       "23        0.771429       0.614035   \n",
       "\n",
       "                                        Features  \n",
       "4           [worst area, mean fractal dimension]  \n",
       "1                  [mean radius, mean concavity]  \n",
       "19  [worst concave points, concave points error]  \n",
       "10              [worst concavity, worst texture]  \n",
       "15          [worst fractal dimension, mean area]  \n",
       "14    [worst concavity, worst fractal dimension]  \n",
       "9                      [mean area, worst radius]  \n",
       "6             [worst perimeter, mean smoothness]  \n",
       "11                    [worst radius, area error]  \n",
       "26               [mean radius, mean compactness]  \n",
       "5                 [mean radius, perimeter error]  \n",
       "13               [perimeter error, worst radius]  \n",
       "24           [concavity error, mean compactness]  \n",
       "20             [worst perimeter, symmetry error]  \n",
       "22           [perimeter error, smoothness error]  \n",
       "8              [mean texture, worst compactness]  \n",
       "7             [concave points error, area error]  \n",
       "25          [area error, mean fractal dimension]  \n",
       "16            [mean smoothness, perimeter error]  \n",
       "29                 [concavity error, area error]  \n",
       "0      [worst compactness, concave points error]  \n",
       "3      [mean fractal dimension, concavity error]  \n",
       "21             [mean texture, compactness error]  \n",
       "17        [mean fractal dimension, mean texture]  \n",
       "2     [concavity error, fractal dimension error]  \n",
       "12            [symmetry error, worst smoothness]  \n",
       "27         [mean symmetry, concave points error]  \n",
       "18             [smoothness error, worst texture]  \n",
       "28      [worst texture, fractal dimension error]  \n",
       "23              [mean symmetry, mean smoothness]  "
      ]
     },
     "execution_count": 570,
     "metadata": {},
     "output_type": "execute_result"
    }
   ],
   "source": [
    "import pandas as pd\n",
    "print(res)\n",
    "res = pd.DataFrame(res, columns=['Train accuracy', 'Test accuracy', 'Features'])\n",
    "res.sort_values(['Test accuracy', 'Train accuracy'], ascending=False, inplace=True)\n",
    "res"
   ]
  },
  {
   "cell_type": "code",
   "execution_count": 571,
   "metadata": {
    "pycharm": {
     "name": "#%%\n"
    }
   },
   "outputs": [],
   "source": [
    "with open('acc_fea_rank.pkl', 'wb') as fp:\n",
    "    pickle.dump(res, fp)"
   ]
  }
 ],
 "metadata": {
  "kernelspec": {
   "display_name": "Python 3 (ipykernel)",
   "language": "python",
   "name": "python3"
  },
  "language_info": {
   "codemirror_mode": {
    "name": "ipython",
    "version": 3
   },
   "file_extension": ".py",
   "mimetype": "text/x-python",
   "name": "python",
   "nbconvert_exporter": "python",
   "pygments_lexer": "ipython3",
   "version": "3.9.9"
  }
 },
 "nbformat": 4,
 "nbformat_minor": 1
}