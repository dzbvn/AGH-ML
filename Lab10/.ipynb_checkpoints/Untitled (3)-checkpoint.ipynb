{
 "cells": [
  {
   "cell_type": "code",
   "execution_count": 1,
   "id": "baac4ce6",
   "metadata": {
    "pycharm": {
     "is_executing": true
    }
   },
   "outputs": [],
   "source": [
    "import tensorflow as tf\n",
    "fashion_mnist = tf.keras.datasets.fashion_mnist\n",
    "(X_train, y_train), (X_test, y_test) = fashion_mnist.load_data() \n",
    "assert X_train.shape == (60000, 28, 28)\n",
    "assert X_test.shape == (10000, 28, 28)\n",
    "assert y_train.shape == (60000,)\n",
    "assert y_test.shape == (10000,)"
   ]
  },
  {
   "cell_type": "code",
   "execution_count": 2,
   "id": "c4f21ae6",
   "metadata": {
    "pycharm": {
     "is_executing": true
    }
   },
   "outputs": [],
   "source": [
    "from sklearn.preprocessing import MinMaxScaler\n",
    "scaler = MinMaxScaler()\n",
    "X_train = scaler.fit_transform(X_train.reshape(-1, X_train.shape[-1])).reshape(X_train.shape)\n",
    "X_test = scaler.transform(X_test.reshape(-1, X_test.shape[-1])).reshape(X_test.shape)"
   ]
  },
  {
   "cell_type": "code",
   "execution_count": 3,
   "id": "2fd7ec6e",
   "metadata": {
    "pycharm": {
     "is_executing": true
    }
   },
   "outputs": [
    {
     "data": {
      "image/png": "[encoded data removed]",
      "text/plain": [
       "<Figure size 432x288 with 1 Axes>"
      ]
     },
     "metadata": {
      "needs_background": "light"
     },
     "output_type": "display_data"
    }
   ],
   "source": [
    "import matplotlib.pyplot as plt \n",
    "plt.imshow(X_train[142], cmap=\"binary\") \n",
    "plt.axis('off')\n",
    "plt.show()"
   ]
  },
  {
   "cell_type": "code",
   "execution_count": 4,
   "id": "2c158357",
   "metadata": {
    "pycharm": {
     "is_executing": true
    }
   },
   "outputs": [
    {
     "data": {
      "text/plain": [
       "'but'"
      ]
     },
     "execution_count": 4,
     "metadata": {},
     "output_type": "execute_result"
    }
   ],
   "source": [
    "class_names = [\"koszulka\", \"spodnie\", \"pulower\", \"sukienka\", \"kurtka\",\n",
    "               \"sandał\", \"koszula\", \"but\", \"torba\", \"kozak\"]\n",
    "class_names[y_train[142]]"
   ]
  },
  {
   "cell_type": "code",
   "execution_count": 9,
   "id": "bb6a9fef",
   "metadata": {
    "pycharm": {
     "is_executing": true
    }
   },
   "outputs": [
    {
     "name": "stdout",
     "output_type": "stream",
     "text": [
      "Model: \"sequential_1\"\n",
      "_________________________________________________________________\n",
      " Layer (type)                Output Shape              Param #   \n",
      "=================================================================\n",
      " flatten_1 (Flatten)         (None, 784)               0         \n",
      "                                                                 \n",
      " dense_3 (Dense)             (None, 300)               235500    \n",
      "                                                                 \n",
      " dense_4 (Dense)             (None, 100)               30100     \n",
      "                                                                 \n",
      " dense_5 (Dense)             (None, 10)                1010      \n",
      "                                                                 \n",
      "=================================================================\n",
      "Total params: 266,610\n",
      "Trainable params: 266,610\n",
      "Non-trainable params: 0\n",
      "_________________________________________________________________\n"
     ]
    }
   ],
   "source": [
    "import keras\n",
    "model = keras.models.Sequential([\n",
    "    keras.layers.Flatten(input_shape=[28, 28]),\n",
    "    keras.layers.Dense(300, activation=\"relu\"),\n",
    "    keras.layers.Dense(100, activation=\"relu\"),\n",
    "    keras.layers.Dense(10, activation=\"softmax\")\n",
    "])\n",
    "\n",
    "model.summary()\n",
    "\n",
    "model.compile(loss=\"sparse_categorical_crossentropy\", optimizer=\"sgd\", metrics=[\"accuracy\"])"
   ]
  },
  {
   "cell_type": "code",
   "execution_count": 6,
   "id": "f8b5a5f1",
   "metadata": {
    "pycharm": {
     "is_executing": true
    }
   },
   "outputs": [],
   "source": [
    "#tf.keras.utils.plot_model(model, \"fashion_mnist.png\", show_shapes=True)"
   ]
  },
  {
   "cell_type": "code",
   "execution_count": null,
   "id": "97fa2bd0",
   "metadata": {
    "pycharm": {
     "is_executing": true
    }
   },
   "outputs": [],
   "source": []
  },
  {
   "cell_type": "code",
   "execution_count": 7,
   "id": "77072239",
   "metadata": {
    "pycharm": {
     "is_executing": true
    }
   },
   "outputs": [],
   "source": [
    "import os\n",
    "root_logdir = os.path.join(os.curdir, \"image_logs\")\n",
    "def get_run_logdir(): \n",
    "    import time\n",
    "    run_id = time.strftime(\"run_%Y_%m_%d-%H_%M_%S\") \n",
    "    return os.path.join(root_logdir, run_id)\n",
    "run_logdir = get_run_logdir()\n",
    "tensorboard_cb = tf.keras.callbacks.TensorBoard(run_logdir)"
   ]
  },
  {
   "cell_type": "code",
   "execution_count": null,
   "id": "9c5e51f0",
   "metadata": {
    "pycharm": {
     "is_executing": true
    }
   },
   "outputs": [
    {
     "name": "stdout",
     "output_type": "stream",
     "text": [
      "Epoch 1/20\n",
      "1688/1688 [==============================] - 4s 2ms/step - loss: 0.7448 - accuracy: 0.7539 - val_loss: 0.5495 - val_accuracy: 0.8113\n",
      "Epoch 2/20\n",
      "1688/1688 [==============================] - 4s 2ms/step - loss: 0.4934 - accuracy: 0.8292 - val_loss: 0.5081 - val_accuracy: 0.8107\n",
      "Epoch 3/20\n",
      "1688/1688 [==============================] - 4s 2ms/step - loss: 0.4463 - accuracy: 0.8447 - val_loss: 0.5355 - val_accuracy: 0.8163\n",
      "Epoch 4/20\n",
      "1688/1688 [==============================] - 4s 2ms/step - loss: 0.4173 - accuracy: 0.8546 - val_loss: 0.4106 - val_accuracy: 0.8520\n",
      "Epoch 5/20\n",
      "1688/1688 [==============================] - 5s 3ms/step - loss: 0.3966 - accuracy: 0.8616 - val_loss: 0.3957 - val_accuracy: 0.8555\n",
      "Epoch 6/20\n",
      "1688/1688 [==============================] - 4s 2ms/step - loss: 0.3803 - accuracy: 0.8667 - val_loss: 0.3918 - val_accuracy: 0.8613\n",
      "Epoch 7/20\n",
      "1688/1688 [==============================] - 4s 2ms/step - loss: 0.3661 - accuracy: 0.8700 - val_loss: 0.3680 - val_accuracy: 0.8665\n",
      "Epoch 8/20\n",
      "1688/1688 [==============================] - 4s 3ms/step - loss: 0.3543 - accuracy: 0.8741 - val_loss: 0.3706 - val_accuracy: 0.8667\n",
      "Epoch 9/20\n",
      "1688/1688 [==============================] - 4s 2ms/step - loss: 0.3452 - accuracy: 0.8781 - val_loss: 0.3557 - val_accuracy: 0.8753\n",
      "Epoch 10/20\n",
      "1688/1688 [==============================] - 4s 2ms/step - loss: 0.3343 - accuracy: 0.8808 - val_loss: 0.3648 - val_accuracy: 0.8697\n",
      "Epoch 11/20\n",
      "1688/1688 [==============================] - 5s 3ms/step - loss: 0.3269 - accuracy: 0.8842 - val_loss: 0.3800 - val_accuracy: 0.8688\n",
      "Epoch 12/20\n",
      "1688/1688 [==============================] - 4s 2ms/step - loss: 0.3190 - accuracy: 0.8860 - val_loss: 0.3588 - val_accuracy: 0.8712\n",
      "Epoch 13/20\n",
      "1688/1688 [==============================] - 4s 2ms/step - loss: 0.3121 - accuracy: 0.8883 - val_loss: 0.3501 - val_accuracy: 0.8715\n",
      "Epoch 14/20\n",
      "1688/1688 [==============================] - 4s 2ms/step - loss: 0.3042 - accuracy: 0.8909 - val_loss: 0.3545 - val_accuracy: 0.8770\n",
      "Epoch 15/20\n",
      "1688/1688 [==============================] - 4s 2ms/step - loss: 0.2993 - accuracy: 0.8922 - val_loss: 0.3336 - val_accuracy: 0.8795\n",
      "Epoch 16/20\n",
      "1688/1688 [==============================] - 4s 2ms/step - loss: 0.2938 - accuracy: 0.8951 - val_loss: 0.3294 - val_accuracy: 0.8848\n",
      "Epoch 17/20\n",
      " 836/1688 [=============>................] - ETA: 2s - loss: 0.2878 - accuracy: 0.8967"
     ]
    }
   ],
   "source": [
    "history = model.fit(X_train, y_train, epochs=20, validation_split=0.1, callbacks=[tensorboard_cb])"
   ]
  },
  {
   "cell_type": "code",
   "execution_count": null,
   "id": "27945d67",
   "metadata": {
    "pycharm": {
     "is_executing": true
    }
   },
   "outputs": [],
   "source": [
    "from sklearn.datasets import fetch_california_housing\n",
    "from sklearn.model_selection import train_test_split\n",
    "from sklearn.preprocessing import StandardScaler\n",
    "housing = fetch_california_housing()"
   ]
  },
  {
   "cell_type": "code",
   "execution_count": null,
   "id": "b7415dc3",
   "metadata": {
    "pycharm": {
     "is_executing": true
    }
   },
   "outputs": [],
   "source": [
    "X_train_full, X_test, y_train_full, y_test = train_test_split(housing.data, housing.target, random_state=42)\n",
    "X_train, X_valid, y_train, y_valid = train_test_split(X_train_full, y_train_full, random_state=42)"
   ]
  },
  {
   "cell_type": "code",
   "execution_count": null,
   "id": "b108be81",
   "metadata": {
    "pycharm": {
     "is_executing": true
    }
   },
   "outputs": [],
   "source": [
    "scaler = StandardScaler()\n",
    "X_train = scaler.fit_transform(X_train)\n",
    "X_valid = scaler.transform(X_valid)\n",
    "X_test = scaler.transform(X_test)\n"
   ]
  },
  {
   "cell_type": "code",
   "execution_count": null,
   "id": "e2f93ed3",
   "metadata": {
    "pycharm": {
     "is_executing": true
    }
   },
   "outputs": [],
   "source": [
    "model_housing = keras.models.Sequential([\n",
    "    keras.layers.Dense(30, activation=\"relu\")\n",
    "])\n",
    "model_housing.compile(loss=keras.losses.MeanSquaredError, optimizer='SGD')\n",
    "model_housing.build()\n",
    "model_housing.summary()"
   ]
  },
  {
   "cell_type": "code",
   "execution_count": null,
   "id": "c3ab2d7f",
   "metadata": {
    "pycharm": {
     "is_executing": true
    }
   },
   "outputs": [],
   "source": [
    "es = tf.keras.callbacks.EarlyStopping(patience=5,\n",
    "                                      min_delta=0.01, \n",
    "                                      verbose=1)"
   ]
  },
  {
   "cell_type": "code",
   "execution_count": null,
   "id": "05aca6fc",
   "metadata": {
    "pycharm": {
     "is_executing": true
    }
   },
   "outputs": [],
   "source": [
    "import os\n",
    "root_logdir = os.path.join(os.curdir, \"housing_logs\")\n",
    "def get_run_logdir(): \n",
    "    import time\n",
    "    run_id = time.strftime(\"run_%Y_%m_%d-%H_%M_%S\") \n",
    "    return os.path.join(root_logdir, run_id)\n",
    "run_logdir = get_run_logdir()\n",
    "tensorboard_cb = tf.keras.callbacks.TensorBoard(run_logdir)\n",
    "\n",
    "model_housing.save(\"reg_housing_1.h5\")"
   ]
  },
  {
   "cell_type": "code",
   "execution_count": null,
   "id": "e5591b79",
   "metadata": {
    "pycharm": {
     "is_executing": true
    }
   },
   "outputs": [],
   "source": []
  }
 ],
 "metadata": {
  "kernelspec": {
   "display_name": "Python 3 (ipykernel)",
   "language": "python",
   "name": "python3"
  },
  "language_info": {
   "codemirror_mode": {
    "name": "ipython",
    "version": 3
   },
   "file_extension": ".py",
   "mimetype": "text/x-python",
   "name": "python",
   "nbconvert_exporter": "python",
   "pygments_lexer": "ipython3",
   "version": "3.9.9"
  }
 },
 "nbformat": 4,
 "nbformat_minor": 5
}
