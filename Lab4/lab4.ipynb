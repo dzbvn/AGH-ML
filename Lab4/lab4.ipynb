{
 "cells": [
  {
   "cell_type": "code",
   "execution_count": 1,
   "id": "93d88123-abad-40ed-9ae2-f95b083e8319",
   "metadata": {
    "pycharm": {
     "is_executing": true
    }
   },
   "outputs": [],
   "source": [
    "from sklearn import datasets\n",
    "import numpy as np\n",
    "\n",
    "data_breast_cancer = datasets.load_breast_cancer(as_frame=True)\n",
    "#print(data_breast_cancer['data'][['mean area', 'mean smoothness']])\n",
    "X_cancer = data_breast_cancer['data'][['mean area', 'mean smoothness']]\n",
    "y_cancer = data_breast_cancer['target']"
   ]
  },
  {
   "cell_type": "code",
   "execution_count": 2,
   "id": "6a833f90-a670-47e7-a529-19325cd240da",
   "metadata": {
    "pycharm": {
     "is_executing": true
    }
   },
   "outputs": [],
   "source": [
    "data_iris = datasets.load_iris(as_frame=True)\n",
    "X_iris = data_iris['data'][['petal length (cm)', 'petal width (cm)']]\n",
    "y_iris = (data_iris[\"target\"] == 2).astype(np.int8)"
   ]
  },
  {
   "cell_type": "code",
   "execution_count": 3,
   "id": "02fbc1c7-617b-43df-a2dc-feeb5909f80a",
   "metadata": {
    "pycharm": {
     "is_executing": true
    }
   },
   "outputs": [],
   "source": [
    "from sklearn.model_selection import train_test_split\n",
    "X_cancer_train, X_cancer_test, y_cancer_train, y_cancer_test = train_test_split(X_cancer, y_cancer, test_size=0.2)\n",
    "X_iris_train, X_iris_test, y_iris_train, y_iris_test = train_test_split(X_iris, y_iris, test_size=0.2)"
   ]
  },
  {
   "cell_type": "code",
   "execution_count": 4,
   "id": "269433d6-e65f-4922-897f-4c39081e5cd7",
   "metadata": {
    "pycharm": {
     "is_executing": true
    }
   },
   "outputs": [
    {
     "name": "stderr",
     "output_type": "stream",
     "text": [
      "c:\\users\\szymo\\dataspellprojects\\emotionr\\venv\\lib\\site-packages\\sklearn\\svm\\_base.py:1206: ConvergenceWarning: Liblinear failed to converge, increase the number of iterations.\n",
      "  warnings.warn(\n"
     ]
    },
    {
     "data": {
      "text/plain": [
       "Pipeline(steps=[('linear_svc', LinearSVC(C=1, loss='hinge'))])"
      ]
     },
     "execution_count": 4,
     "metadata": {},
     "output_type": "execute_result"
    }
   ],
   "source": [
    "from sklearn.pipeline import Pipeline\n",
    "from sklearn.preprocessing import StandardScaler\n",
    "from sklearn.svm import LinearSVC\n",
    "\n",
    "svm_clf_cancer = Pipeline([\n",
    "        (\"linear_svc\", LinearSVC(C=1,\n",
    "                                 loss=\"hinge\",\n",
    "                                ))])\n",
    "svm_clf_cancer.fit(X_cancer_train, y_cancer_train)"
   ]
  },
  {
   "cell_type": "code",
   "execution_count": 5,
   "id": "feadfaf7-88ec-4f5e-86c9-2a4c6904dfb8",
   "metadata": {
    "pycharm": {
     "is_executing": true
    }
   },
   "outputs": [
    {
     "data": {
      "text/plain": [
       "Pipeline(steps=[('scaler', StandardScaler()),\n",
       "                ('linear_svc', LinearSVC(C=1, loss='hinge'))])"
      ]
     },
     "execution_count": 5,
     "metadata": {},
     "output_type": "execute_result"
    }
   ],
   "source": [
    "svm_clf_cancer_scal = Pipeline([\n",
    "        (\"scaler\", StandardScaler()),\n",
    "        (\"linear_svc\", LinearSVC(C=1,\n",
    "                                 loss=\"hinge\",\n",
    "                                ))])\n",
    "svm_clf_cancer_scal.fit(X_cancer_train, y_cancer_train)"
   ]
  },
  {
   "cell_type": "code",
   "execution_count": 6,
   "id": "c1f855b9-1bf6-4d78-b077-014dc9c5e21f",
   "metadata": {
    "pycharm": {
     "is_executing": true
    }
   },
   "outputs": [
    {
     "name": "stdout",
     "output_type": "stream",
     "text": [
      "0.6593406593406593\n",
      "0.5789473684210527\n",
      "0.8989010989010989\n",
      "0.9298245614035088\n"
     ]
    }
   ],
   "source": [
    "from sklearn.metrics import accuracy_score\n",
    "\n",
    "#zbiór uczący bez skalowania\n",
    "y_cancer_train_pred = svm_clf_cancer.predict(X_cancer_train)\n",
    "acc_cancer_train = accuracy_score(y_cancer_train, y_cancer_train_pred)\n",
    "print(acc_cancer_train)\n",
    "\n",
    "#zbiór testujący bez skalowania\n",
    "y_cancer_test_pred = svm_clf_cancer.predict(X_cancer_test)\n",
    "acc_cancer_test = accuracy_score(y_cancer_test, y_cancer_test_pred)\n",
    "print(acc_cancer_test)\n",
    "\n",
    "#zbiór uczący ze skalowaniem\n",
    "y_cancer_train_pred_scal = svm_clf_cancer_scal.predict(X_cancer_train)\n",
    "acc_cancer_train_scal = accuracy_score(y_cancer_train, y_cancer_train_pred_scal)\n",
    "print(acc_cancer_train_scal)\n",
    "\n",
    "#zbiór testujący ze skalowaniem\n",
    "y_cancer_test_pred_scal = svm_clf_cancer_scal.predict(X_cancer_test)\n",
    "acc_cancer_test_scal = accuracy_score(y_cancer_test, y_cancer_test_pred_scal)\n",
    "print(acc_cancer_test_scal)"
   ]
  },
  {
   "cell_type": "code",
   "execution_count": 7,
   "id": "db4444f1",
   "metadata": {},
   "outputs": [
    {
     "name": "stdout",
     "output_type": "stream",
     "text": [
      "[0.6593406593406593, 0.5789473684210527, 0.8989010989010989, 0.9298245614035088]\n"
     ]
    }
   ],
   "source": [
    "bc_acc = [acc_cancer_train, acc_cancer_test, acc_cancer_train_scal, acc_cancer_test_scal]\n",
    "print(bc_acc)"
   ]
  },
  {
   "cell_type": "code",
   "execution_count": 8,
   "id": "48dea2d2",
   "metadata": {},
   "outputs": [],
   "source": [
    "import pickle\n",
    "with open('bc_acc.pkl', 'wb') as fp:\n",
    "    pickle.dump(bc_acc, fp)"
   ]
  },
  {
   "cell_type": "code",
   "execution_count": 9,
   "id": "3dcd7007-b9df-4d3a-aef3-96a010593e1f",
   "metadata": {
    "pycharm": {
     "is_executing": true
    }
   },
   "outputs": [
    {
     "name": "stderr",
     "output_type": "stream",
     "text": [
      "c:\\users\\szymo\\dataspellprojects\\emotionr\\venv\\lib\\site-packages\\sklearn\\svm\\_base.py:1206: ConvergenceWarning: Liblinear failed to converge, increase the number of iterations.\n",
      "  warnings.warn(\n"
     ]
    },
    {
     "data": {
      "text/plain": [
       "Pipeline(steps=[('linear_svc', LinearSVC(C=1, loss='hinge'))])"
      ]
     },
     "execution_count": 9,
     "metadata": {},
     "output_type": "execute_result"
    }
   ],
   "source": [
    "svm_clf_iris = Pipeline([\n",
    "        (\"linear_svc\", LinearSVC(C=1,\n",
    "                                 loss=\"hinge\",\n",
    "                                ))])\n",
    "svm_clf_iris.fit(X_iris_train, y_iris_train)"
   ]
  },
  {
   "cell_type": "code",
   "execution_count": 10,
   "id": "3f5aa75c-18ac-4061-9d83-78004e831bf6",
   "metadata": {
    "pycharm": {
     "is_executing": true
    }
   },
   "outputs": [
    {
     "data": {
      "text/plain": [
       "Pipeline(steps=[('scaler', StandardScaler()),\n",
       "                ('linear_svc', LinearSVC(C=1, loss='hinge'))])"
      ]
     },
     "execution_count": 10,
     "metadata": {},
     "output_type": "execute_result"
    }
   ],
   "source": [
    "svm_clf_iris_scal = Pipeline([\n",
    "        (\"scaler\", StandardScaler()),\n",
    "        (\"linear_svc\", LinearSVC(C=1,\n",
    "                                 loss=\"hinge\",\n",
    "                                ))])\n",
    "svm_clf_iris_scal.fit(X_iris_train, y_iris_train)"
   ]
  },
  {
   "cell_type": "code",
   "execution_count": 11,
   "id": "34174393-7be7-4fe2-86e5-01d515ddb138",
   "metadata": {
    "pycharm": {
     "is_executing": true
    }
   },
   "outputs": [
    {
     "name": "stdout",
     "output_type": "stream",
     "text": [
      "0.9583333333333334\n",
      "1.0\n",
      "0.95\n",
      "0.9666666666666667\n"
     ]
    }
   ],
   "source": [
    "from sklearn.metrics import accuracy_score\n",
    "\n",
    "#zbiór uczący bez skalowania\n",
    "y_iris_train_pred = svm_clf_iris.predict(X_iris_train)\n",
    "acc_iris_train = accuracy_score(y_iris_train, y_iris_train_pred)\n",
    "print(acc_iris_train)\n",
    "\n",
    "#zbiór testujący bez skalowania\n",
    "y_iris_test_pred = svm_clf_iris.predict(X_iris_test)\n",
    "acc_iris_test = accuracy_score(y_iris_test, y_iris_test_pred)\n",
    "print(acc_iris_test)\n",
    "\n",
    "#zbiór uczący ze skalowaniem\n",
    "y_iris_train_pred_scal = svm_clf_iris_scal.predict(X_iris_train)\n",
    "acc_iris_train_scal = accuracy_score(y_iris_train, y_iris_train_pred_scal)\n",
    "print(acc_iris_train_scal)\n",
    "\n",
    "#zbiór testujący ze skalowaniem\n",
    "y_iris_test_pred_scal = svm_clf_iris_scal.predict(X_iris_test)\n",
    "acc_iris_test_scal = accuracy_score(y_iris_test, y_iris_test_pred_scal)\n",
    "print(acc_iris_test_scal)"
   ]
  },
  {
   "cell_type": "code",
   "execution_count": 12,
   "id": "42485be4",
   "metadata": {},
   "outputs": [],
   "source": [
    "iris_acc = [acc_iris_train, acc_iris_test, acc_iris_train_scal, acc_iris_test_scal]"
   ]
  },
  {
   "cell_type": "code",
   "execution_count": 13,
   "id": "c6fc96cd",
   "metadata": {},
   "outputs": [],
   "source": [
    "with open('iris_acc.pkl', 'wb') as fp:\n",
    "    pickle.dump(iris_acc, fp)"
   ]
  }
 ],
 "metadata": {
  "kernelspec": {
   "display_name": "Python 3 (ipykernel)",
   "language": "python",
   "name": "python3"
  },
  "language_info": {
   "codemirror_mode": {
    "name": "ipython",
    "version": 3
   },
   "file_extension": ".py",
   "mimetype": "text/x-python",
   "name": "python",
   "nbconvert_exporter": "python",
   "pygments_lexer": "ipython3",
   "version": "3.9.9"
  }
 },
 "nbformat": 4,
 "nbformat_minor": 5
}