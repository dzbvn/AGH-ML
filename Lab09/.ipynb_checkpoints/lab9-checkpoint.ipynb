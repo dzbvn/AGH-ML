{
 "cells": [
  {
   "cell_type": "code",
   "execution_count": 110,
   "metadata": {
    "collapsed": true
   },
   "outputs": [],
   "source": [
    "from sklearn.datasets import load_iris\n",
    "iris = load_iris(as_frame=True)"
   ]
  },
  {
   "cell_type": "code",
   "execution_count": 111,
   "metadata": {
    "pycharm": {
     "name": "#%%\n"
    }
   },
   "outputs": [
    {
     "data": {
      "text/plain": [
       "<AxesSubplot:xlabel='petal length (cm)', ylabel='petal width (cm)'>"
      ]
     },
     "execution_count": 111,
     "metadata": {},
     "output_type": "execute_result"
    },
    {
     "data": {
      "image/png": "[encoded data removed]",
      "text/plain": [
       "<Figure size 432x288 with 2 Axes>"
      ]
     },
     "metadata": {
      "needs_background": "light"
     },
     "output_type": "display_data"
    }
   ],
   "source": [
    "import pandas as pd\n",
    "\n",
    "pd.concat([iris.data, iris.target], axis=1).plot.scatter(\n",
    "    x='petal length (cm)',\n",
    "    y='petal width (cm)',\n",
    "    c='target',\n",
    "    colormap='viridis'\n",
    ")"
   ]
  },
  {
   "cell_type": "code",
   "execution_count": 112,
   "metadata": {
    "pycharm": {
     "name": "#%%\n"
    }
   },
   "outputs": [],
   "source": [
    "from sklearn.model_selection import train_test_split\n",
    "\n",
    "X = iris[\"data\"][[\"petal length (cm)\", \"petal width (cm)\"]]\n",
    "y = iris[\"target\"]\n",
    "X_train, X_test, y_train, y_test = train_test_split(X, y, test_size=0.2)"
   ]
  },
  {
   "cell_type": "code",
   "execution_count": 113,
   "metadata": {
    "pycharm": {
     "name": "#%%\n"
    }
   },
   "outputs": [],
   "source": [
    "from sklearn.linear_model import Perceptron\n",
    "from sklearn.metrics import accuracy_score\n",
    "\n",
    "per_clf_0 = Perceptron()\n",
    "\n",
    "y_train_0 = (y_train == 0).astype(int)\n",
    "y_test_0 = (y_test == 0).astype(int)\n",
    "\n",
    "per_clf_0.fit(X_train, y_train_0)\n",
    "\n",
    "y_pred_train_0 = per_clf_0.predict(X_train)\n",
    "y_pred_test_0 = per_clf_0.predict(X_test)\n",
    "\n",
    "acc_train_0 = accuracy_score(y_train_0, y_pred_train_0)\n",
    "acc_test_0 = accuracy_score(y_test_0, y_pred_test_0)"
   ]
  },
  {
   "cell_type": "code",
   "execution_count": 114,
   "metadata": {
    "pycharm": {
     "name": "#%%\n"
    }
   },
   "outputs": [],
   "source": [
    "per_clf_1 = Perceptron()\n",
    "\n",
    "y_train_1 = (y_train == 1).astype(int)\n",
    "y_test_1 = (y_test == 1).astype(int)\n",
    "\n",
    "per_clf_1.fit(X_train, y_train_1)\n",
    "\n",
    "y_pred_train_1 = per_clf_1.predict(X_train)\n",
    "y_pred_test_1 = per_clf_1.predict(X_test)\n",
    "\n",
    "acc_train_1 = accuracy_score(y_train_1, y_pred_train_1)\n",
    "acc_test_1 = accuracy_score(y_test_1, y_pred_test_1)"
   ]
  },
  {
   "cell_type": "code",
   "execution_count": 115,
   "metadata": {
    "pycharm": {
     "name": "#%%\n"
    }
   },
   "outputs": [],
   "source": [
    "per_clf_2 = Perceptron()\n",
    "\n",
    "y_train_2 = (y_train == 2).astype(int)\n",
    "y_test_2 = (y_test == 2).astype(int)\n",
    "\n",
    "per_clf_2.fit(X_train, y_train_2)\n",
    "\n",
    "y_pred_train_2 = per_clf_2.predict(X_train)\n",
    "y_pred_test_2 = per_clf_2.predict(X_test)\n",
    "\n",
    "acc_train_2 = accuracy_score(y_train_2, y_pred_train_2)\n",
    "acc_test_2 = accuracy_score(y_test_2, y_pred_test_2)"
   ]
  },
  {
   "cell_type": "code",
   "execution_count": 116,
   "metadata": {
    "pycharm": {
     "name": "#%%\n"
    }
   },
   "outputs": [
    {
     "name": "stdout",
     "output_type": "stream",
     "text": [
      "[(1.0, 1.0), (0.35, 0.36666666666666664), (0.95, 0.9)]\n"
     ]
    }
   ],
   "source": [
    "per_acc = [(acc_train_0, acc_test_0), (acc_train_1, acc_test_1), (acc_train_2, acc_test_2)]\n",
    "print(per_acc)"
   ]
  },
  {
   "cell_type": "code",
   "execution_count": 117,
   "metadata": {
    "pycharm": {
     "name": "#%%\n"
    }
   },
   "outputs": [
    {
     "name": "stdout",
     "output_type": "stream",
     "text": [
      "[(6.0, -2.2999999999999994, -2.7999999999999994), (-9.0, 10.90000000000002, -15.599999999999964), (-59.0, 3.6999999999999806, 28.200000000000006)]\n"
     ]
    }
   ],
   "source": [
    "per_wght = []\n",
    "for p in [per_clf_0, per_clf_1, per_clf_2]:\n",
    "    per_wght.append((p.intercept_[0], p.coef_[0, 0], p.coef_[0, 1]))\n",
    "\n",
    "print(per_wght)"
   ]
  },
  {
   "cell_type": "code",
   "execution_count": 118,
   "metadata": {
    "pycharm": {
     "name": "#%%\n"
    }
   },
   "outputs": [],
   "source": [
    "import pickle\n",
    "with open('per_acc.pkl', 'wb') as fp:\n",
    "    pickle.dump(per_acc, fp)\n",
    "with open('per_wght.pkl', 'wb') as fp:\n",
    "    pickle.dump(per_wght, fp)"
   ]
  },
  {
   "cell_type": "code",
   "execution_count": 119,
   "metadata": {
    "pycharm": {
     "name": "#%%\n"
    }
   },
   "outputs": [],
   "source": [
    "import numpy as np\n",
    "\n",
    "X = np.array([[0, 0],\n",
    "              [0, 1],\n",
    "              [1, 0],\n",
    "              [1, 1]])\n",
    "\n",
    "y = np.array([0,\n",
    "              1,\n",
    "              1,\n",
    "              0])"
   ]
  },
  {
   "cell_type": "code",
   "execution_count": 120,
   "metadata": {
    "pycharm": {
     "name": "#%%\n"
    }
   },
   "outputs": [
    {
     "name": "stdout",
     "output_type": "stream",
     "text": [
      "Model: \"sequential_174\"\n",
      "_________________________________________________________________\n",
      " Layer (type)                Output Shape              Param #   \n",
      "=================================================================\n",
      " dense_348 (Dense)           (None, 2)                 6         \n",
      "                                                                 \n",
      " dense_349 (Dense)           (None, 1)                 3         \n",
      "                                                                 \n",
      "=================================================================\n",
      "Total params: 9\n",
      "Trainable params: 9\n",
      "Non-trainable params: 0\n",
      "_________________________________________________________________\n"
     ]
    }
   ],
   "source": [
    "import keras\n",
    "import tensorflow as tf\n",
    "\n",
    "model = keras.models.Sequential()\n",
    "model.add(keras.layers.Dense(2, activation=\"tanh\", use_bias=True, input_dim=2))\n",
    "model.add(keras.layers.Dense(1, activation=\"sigmoid\", use_bias=True))\n",
    "\n",
    "model.summary()"
   ]
  },
  {
   "cell_type": "code",
   "execution_count": 121,
   "metadata": {
    "pycharm": {
     "name": "#%%\n"
    }
   },
   "outputs": [
    {
     "name": "stdout",
     "output_type": "stream",
     "text": [
      "[0.7273901700973511, 0.7272412776947021, 0.7270927429199219, 0.7269450426101685, 0.7267978191375732, 0.726651132106781, 0.7265050411224365, 0.726359486579895, 0.726214587688446, 0.7260702252388, 0.725926399230957, 0.7257831692695618, 0.7256404757499695, 0.7254983186721802, 0.7253566980361938, 0.7252156734466553, 0.7250751256942749, 0.7249351739883423, 0.7247957587242126, 0.7246568202972412, 0.7245185375213623, 0.724380612373352, 0.7242432832717896, 0.7241065502166748, 0.7239702939987183, 0.7238345146179199, 0.7236992120742798, 0.7235645055770874, 0.7234302759170532, 0.7232965230941772, 0.7231632471084595, 0.7230305075645447, 0.7228982448577881, 0.7227665185928345, 0.7226352691650391, 0.7225044965744019, 0.7223742008209229, 0.722244381904602, 0.7221150398254395, 0.7219861745834351, 0.7218577861785889, 0.7217298746109009, 0.7216024398803711, 0.7214754223823547, 0.7213488817214966, 0.7212227582931519, 0.7210971117019653, 0.7209720015525818, 0.7208472490310669, 0.7207229733467102, 0.7205991744995117, 0.7204757928848267, 0.7203527688980103, 0.7202302813529968, 0.7201082110404968, 0.7199865579605103, 0.7198654413223267, 0.7197446227073669, 0.7196242809295654, 0.7195043563842773, 0.7193847894668579, 0.7192656993865967, 0.7191469669342041, 0.7190288305282593, 0.7189109325408936, 0.718793511390686, 0.7186764478683472, 0.718559741973877, 0.7184435129165649, 0.7183277606964111, 0.7182122468948364, 0.7180972695350647, 0.7179826498031616, 0.7178683876991272, 0.7177545428276062, 0.7176410555839539, 0.7175279855728149, 0.7174152135848999, 0.7173029184341431, 0.7171909809112549, 0.7170794010162354, 0.7169681787490845, 0.7168573141098022, 0.7167469263076782, 0.7166367769241333, 0.7165271043777466, 0.7164177298545837, 0.7163087129592896, 0.7162001132965088, 0.7160918116569519, 0.7159838676452637, 0.7158763408660889, 0.7157691121101379, 0.7156622409820557, 0.7155557870864868, 0.7154495716094971, 0.7153437733650208, 0.7152382731437683, 0.7151331305503845, 0.7150284051895142]\n"
     ]
    }
   ],
   "source": [
    "model.compile(loss=\"binary_crossentropy\", optimizer=\"sgd\")\n",
    "\n",
    "history = model.fit(X, y, epochs=100, verbose=False)\n",
    "print(history.history['loss'])"
   ]
  },
  {
   "cell_type": "code",
   "execution_count": 122,
   "metadata": {
    "pycharm": {
     "name": "#%%\n"
    }
   },
   "outputs": [
    {
     "data": {
      "text/plain": [
       "array([[0.48562172],\n",
       "       [0.40333575],\n",
       "       [0.6057439 ],\n",
       "       [0.54416084]], dtype=float32)"
      ]
     },
     "execution_count": 122,
     "metadata": {},
     "output_type": "execute_result"
    }
   ],
   "source": [
    "model.predict(X)"
   ]
  },
  {
   "cell_type": "code",
   "execution_count": 123,
   "metadata": {
    "pycharm": {
     "name": "#%%\n"
    }
   },
   "outputs": [
    {
     "name": "stdout",
     "output_type": "stream",
     "text": [
      "1 [[0.00214526]\n",
      " [0.9971244 ]\n",
      " [0.99508727]\n",
      " [0.00181359]]\n"
     ]
    }
   ],
   "source": [
    "counter = 0\n",
    "while True:\n",
    "    modelS = keras.models.Sequential()\n",
    "    modelS.add(keras.layers.Dense(2, activation=\"tanh\", use_bias=True, input_dim=2))\n",
    "    modelS.add(keras.layers.Dense(1, activation=\"sigmoid\", use_bias=True))\n",
    "    modelS.compile(loss=\"binary_crossentropy\", optimizer=tf.keras.optimizers.Adam(learning_rate=0.2))\n",
    "\n",
    "    history = modelS.fit(X, y, epochs=100, verbose=False)\n",
    "\n",
    "    res = modelS.predict(X)\n",
    "    counter += 1\n",
    "    if res[0] < 0.1 and res[3] < 0.1 and res[1] > 0.9 and res[2] > 0.9:\n",
    "        break\n",
    "print(counter, res)"
   ]
  },
  {
   "cell_type": "code",
   "execution_count": 124,
   "metadata": {
    "pycharm": {
     "name": "#%%\n"
    }
   },
   "outputs": [],
   "source": [
    "with open('mlp_xor_weights.pkl', 'wb') as fp:\n",
    "    pickle.dump(modelS.get_weights(), fp)"
   ]
  }
 ],
 "metadata": {
  "kernelspec": {
   "display_name": "Python 3 (ipykernel)",
   "language": "python",
   "name": "python3"
  },
  "language_info": {
   "codemirror_mode": {
    "name": "ipython",
    "version": 3
   },
   "file_extension": ".py",
   "mimetype": "text/x-python",
   "name": "python",
   "nbconvert_exporter": "python",
   "pygments_lexer": "ipython3",
   "version": "3.9.9"
  }
 },
 "nbformat": 4,
 "nbformat_minor": 1
}
