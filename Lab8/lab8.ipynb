{
 "cells": [
  {
   "cell_type": "code",
   "execution_count": 1,
   "id": "d80085d1-9aad-42b1-b201-aee92f64a175",
   "metadata": {},
   "outputs": [],
   "source": [
    "from sklearn import datasets\n",
    "data_breast_cancer = datasets.load_breast_cancer()\n",
    "\n",
    "from sklearn.datasets import load_iris\n",
    "data_iris = load_iris()"
   ]
  },
  {
   "cell_type": "code",
   "execution_count": 11,
   "id": "b948da7a-7cb9-461b-ae1b-d94de0c6246c",
   "metadata": {},
   "outputs": [
    {
     "name": "stdout",
     "output_type": "stream",
     "text": [
      "[0.98204467]\n",
      "[0.92461872]\n"
     ]
    }
   ],
   "source": [
    "from sklearn.decomposition import PCA\n",
    "\n",
    "X_cancer = data_breast_cancer[\"data\"]\n",
    "X_iris = data_iris[\"data\"]\n",
    "\n",
    "pca_cancer = PCA(n_components=0.9)\n",
    "X2D_cancer = pca_cancer.fit_transform(X_cancer)\n",
    "print(pca_cancer.explained_variance_ratio_)\n",
    "\n",
    "pca_iris = PCA(n_components=0.9)\n",
    "X2D_iris = pca_iris.fit_transform(X_iris)\n",
    "print(pca_iris.explained_variance_ratio_)"
   ]
  },
  {
   "cell_type": "code",
   "execution_count": 12,
   "id": "ff6083b0-6921-4290-993f-672d7f3b93eb",
   "metadata": {},
   "outputs": [
    {
     "name": "stdout",
     "output_type": "stream",
     "text": [
      "[0.44272026 0.18971182 0.09393163 0.06602135 0.05495768 0.04024522\n",
      " 0.02250734]\n",
      "[0.72962445 0.22850762]\n"
     ]
    }
   ],
   "source": [
    "from sklearn.preprocessing import StandardScaler\n",
    "\n",
    "scaler_cancer = StandardScaler()\n",
    "X_cancer_scaler = scaler_cancer.fit_transform(X_cancer)\n",
    "\n",
    "scaler_iris = StandardScaler()\n",
    "X_iris_scaler = scaler_iris.fit_transform(X_iris)\n",
    "\n",
    "pca_cancer_scal = PCA(n_components=0.9)\n",
    "X2D_cancer = pca_cancer_scal.fit_transform(X_cancer_scaler)\n",
    "print(pca_cancer_scal.explained_variance_ratio_)\n",
    "\n",
    "pca_iris_scal = PCA(n_components=0.9)\n",
    "X2D_iris = pca_iris_scal.fit_transform(X_iris_scaler)\n",
    "print(pca_iris_scal.explained_variance_ratio_)"
   ]
  },
  {
   "cell_type": "code",
   "execution_count": 21,
   "id": "1968516c-f06a-4192-82fb-ac2e83075c2c",
   "metadata": {},
   "outputs": [
    {
     "name": "stdout",
     "output_type": "stream",
     "text": [
      "178\n",
      "0.49892678446045313\n",
      "5\n",
      "0.9232956595407151\n"
     ]
    }
   ],
   "source": [
    "import numpy as np\n",
    "print(np.argmax(pca_cancer_scal.components_))\n",
    "print(np.amax(pca_cancer_scal.components_))\n",
    "\n",
    "#print((pca_cancer_scal.components_))\n",
    "print(np.argmax(pca_iris_scal.components_))\n",
    "print(np.amax(pca_iris_scal.components_))"
   ]
  },
  {
   "cell_type": "code",
   "execution_count": 28,
   "id": "4fca9404-b325-45e5-9f58-b8f4268e1698",
   "metadata": {},
   "outputs": [
    {
     "name": "stdout",
     "output_type": "stream",
     "text": [
      "[7, 9, 11, 4, 16, 28, 29]\n",
      "[2, 1]\n"
     ]
    }
   ],
   "source": [
    "res_cancer = []\n",
    "for i in pca_cancer_scal.components_:\n",
    "    res_cancer.append(np.argmax(i))\n",
    "print(res_cancer)\n",
    "res_iris = []\n",
    "for i in pca_iris_scal.components_:\n",
    "    res_iris.append(np.argmax(i))\n",
    "print(res_iris)\n",
    "    "
   ]
  },
  {
   "cell_type": "code",
   "execution_count": null,
   "id": "0b4838d6-95f4-4ebc-b0d9-27eb56970db3",
   "metadata": {},
   "outputs": [],
   "source": []
  }
 ],
 "metadata": {
  "kernelspec": {
   "display_name": "Python 3 (ipykernel)",
   "language": "python",
   "name": "python3"
  },
  "language_info": {
   "codemirror_mode": {
    "name": "ipython",
    "version": 3
   },
   "file_extension": ".py",
   "mimetype": "text/x-python",
   "name": "python",
   "nbconvert_exporter": "python",
   "pygments_lexer": "ipython3",
   "version": "3.9.10"
  }
 },
 "nbformat": 4,
 "nbformat_minor": 5
}
