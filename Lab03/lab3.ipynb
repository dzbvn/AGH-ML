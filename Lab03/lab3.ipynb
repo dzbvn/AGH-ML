{
 "cells": [
  {
   "cell_type": "code",
   "execution_count": 277,
   "id": "70e510ff-d51e-4d4d-9d8d-25d0307f10f6",
   "metadata": {},
   "outputs": [
    {
     "data": {
      "text/plain": [
       "<AxesSubplot:xlabel='x', ylabel='y'>"
      ]
     },
     "execution_count": 277,
     "metadata": {},
     "output_type": "execute_result"
    },
    {
     "data": {
      "image/png": "[encoded data removed]",
      "text/plain": [
       "<Figure size 432x288 with 1 Axes>"
      ]
     },
     "metadata": {
      "needs_background": "light"
     },
     "output_type": "display_data"
    }
   ],
   "source": [
    "import numpy as np\n",
    "import pandas as pd\n",
    "\n",
    "size = 300\n",
    "X = np.random.rand(size)*5-2.5\n",
    "w4, w3, w2, w1, w0 = 1, 2, 1, -4, 2\n",
    "y = w4*(X**4) + w3*(X**3) + w2*(X**2) + w1*X + w0 + np.random.randn(size)*8-4\n",
    "df = pd.DataFrame({'x': X, 'y': y})\n",
    "df.to_csv('dane_do_regresji.csv',index=None)\n",
    "df.plot.scatter(x='x',y='y')\n",
    "#X = df['x']\n",
    "#y = df['y']\n",
    "#print(X.shape)\n",
    "#print(df['x'])\n"
   ]
  },
  {
   "cell_type": "code",
   "execution_count": 278,
   "id": "914d341f-fc46-4e2b-829b-4ac74d9e37e1",
   "metadata": {},
   "outputs": [],
   "source": [
    "from sklearn.model_selection import train_test_split\n",
    "X_train, X_test, y_train, y_test = train_test_split(X, y, test_size=0.2)\n",
    "#print(X_test.shape, X_train.shape)\n",
    "#print(X_train)\n",
    "#print(X_train)\n",
    "\n",
    "X_train = X_train.reshape(-1, 1)\n",
    "X_test = X_test.reshape(-1, 1)\n",
    "y_train = y_train.reshape(-1, 1)\n",
    "y_test = y_test.reshape(-1, 1)\n",
    "\n"
   ]
  },
  {
   "cell_type": "code",
   "execution_count": 279,
   "id": "641bf549-a081-4f2d-837d-dd698bcdddd9",
   "metadata": {},
   "outputs": [
    {
     "name": "stdout",
     "output_type": "stream",
     "text": [
      "[[0]\n",
      " [2]]\n",
      "[9.53486921] [[3.12235618]] \n",
      " [[ 9.53486921]\n",
      " [15.77958156]]\n",
      "241.28795126208055 242.12748820149312\n"
     ]
    }
   ],
   "source": [
    "from sklearn.linear_model import LinearRegression\n",
    "from sklearn.metrics import mean_squared_error\n",
    "\n",
    "lin_reg = LinearRegression()\n",
    "\n",
    "lin_reg.fit(X_train, y_train)\n",
    "X_new = np.array([[0], [2]])\n",
    "print(X_new)\n",
    "\n",
    "print(lin_reg.intercept_, lin_reg.coef_, \"\\n\",\n",
    "lin_reg.predict(X_new))\n",
    "\n",
    "lin_train_mse = mean_squared_error(y_train, lin_reg.predict(X_train))\n",
    "lin_test_mse = mean_squared_error(y_test, lin_reg.predict(X_test))\n",
    "print(lin_train_mse, lin_test_mse)"
   ]
  },
  {
   "cell_type": "code",
   "execution_count": 280,
   "id": "aa2d4274-6687-45e1-bde4-94a2246296e2",
   "metadata": {},
   "outputs": [
    {
     "name": "stdout",
     "output_type": "stream",
     "text": [
      "53.28738428698418 82.99078777305775\n"
     ]
    }
   ],
   "source": [
    "import sklearn.neighbors\n",
    "\n",
    "knn_3_reg = sklearn.neighbors.KNeighborsRegressor(\n",
    "n_neighbors=3)\n",
    "knn_3_reg.fit(X_train, y_train)\n",
    "\n",
    "knn3_train_mse = mean_squared_error(y_train, knn_3_reg.predict(X_train))\n",
    "knn3_test_mse = mean_squared_error(y_test, knn_3_reg.predict(X_test))\n",
    "print(knn3_train_mse, knn3_test_mse)\n"
   ]
  },
  {
   "cell_type": "code",
   "execution_count": 281,
   "id": "718c53f7-c428-486a-b1d5-c9975f216f5a",
   "metadata": {},
   "outputs": [
    {
     "name": "stdout",
     "output_type": "stream",
     "text": [
      "58.08344235949282 64.19259348048143\n"
     ]
    }
   ],
   "source": [
    "import sklearn.neighbors\n",
    "\n",
    "knn_5_reg = sklearn.neighbors.KNeighborsRegressor(\n",
    "n_neighbors=5)\n",
    "knn_5_reg.fit(X_train, y_train)\n",
    "\n",
    "knn5_train_mse = mean_squared_error(y_train, knn_5_reg.predict(X_train))\n",
    "knn5_test_mse = mean_squared_error(y_test, knn_5_reg.predict(X_test))\n",
    "print(knn5_train_mse, knn5_test_mse)"
   ]
  },
  {
   "cell_type": "code",
   "execution_count": 282,
   "id": "42e4ae63",
   "metadata": {
    "pycharm": {
     "name": "#%%\n"
    }
   },
   "outputs": [
    {
     "name": "stdout",
     "output_type": "stream",
     "text": [
      "[-4.71988986] [[4.24738253 6.35342376]]\n",
      "[[-4.71988986]\n",
      " [29.18857023]]\n",
      "29.18857022979566\n",
      "90.44869034184441 83.70332209445864\n"
     ]
    },
    {
     "data": {
      "text/plain": [
       "[<matplotlib.lines.Line2D at 0x26743b0c790>]"
      ]
     },
     "execution_count": 282,
     "metadata": {},
     "output_type": "execute_result"
    },
    {
     "data": {
      "image/png": "[encoded data removed]",
      "text/plain": [
       "<Figure size 432x288 with 1 Axes>"
      ]
     },
     "metadata": {
      "needs_background": "light"
     },
     "output_type": "display_data"
    }
   ],
   "source": [
    "from sklearn.preprocessing import PolynomialFeatures\n",
    "poly_feature_2 = PolynomialFeatures(degree=2, include_bias=False)\n",
    "\n",
    "X_poly_train = poly_feature_2.fit_transform(X_train)\n",
    "X_poly_test = poly_feature_2.fit_transform(X_test)\n",
    "\n",
    "#print(X_train[0], X_poly_train[0])\n",
    "poly_2_reg = LinearRegression()\n",
    "poly_2_reg.fit(X_poly_train, y_train)\n",
    "print(poly_2_reg.intercept_, poly_2_reg.coef_)\n",
    "print(poly_2_reg.predict(poly_feature_2.fit_transform([[0],[2]])))\n",
    "print(poly_2_reg.coef_[0][1] * 2**2 + poly_2_reg.coef_[0][0] * 2 + poly_2_reg.intercept_[0])\n",
    "\n",
    "poly2_train_mse = mean_squared_error(y_train, poly_2_reg.predict(X_poly_train))\n",
    "poly2_test_mse = mean_squared_error(y_test, poly_2_reg.predict(X_poly_test))\n",
    "print(poly2_train_mse, poly2_test_mse)\n",
    "\n",
    "import matplotlib.pyplot as plt\n",
    "\n",
    "X_sort = pd.Series(X_test.flatten()).sort_values()\n",
    "y_sort = pd.Series((poly_2_reg.predict(X_poly_test)).flatten()).reindex(X_sort.index)\n",
    "\n",
    "plt.plot(X_sort, y_sort)"
   ]
  },
  {
   "cell_type": "code",
   "execution_count": 283,
   "id": "58031ad7-ff39-42c1-9190-9d41a526a9e1",
   "metadata": {},
   "outputs": [
    {
     "name": "stdout",
     "output_type": "stream",
     "text": [
      "[-4.80602703] [[-2.64605279  6.52374119  1.75882359]]\n",
      "[[-4.80602703]\n",
      " [30.06742091]]\n",
      "15.996832160550328\n",
      "73.36470707950005 74.78718782425267\n"
     ]
    },
    {
     "data": {
      "text/plain": [
       "[<matplotlib.lines.Line2D at 0x26743b65fa0>]"
      ]
     },
     "execution_count": 283,
     "metadata": {},
     "output_type": "execute_result"
    },
    {
     "data": {
      "image/png": "[encoded data removed]",
      "text/plain": [
       "<Figure size 432x288 with 1 Axes>"
      ]
     },
     "metadata": {
      "needs_background": "light"
     },
     "output_type": "display_data"
    }
   ],
   "source": [
    "from sklearn.preprocessing import PolynomialFeatures\n",
    "poly_feature_3 = PolynomialFeatures(degree=3, include_bias=False)\n",
    "X_poly_train = poly_feature_3.fit_transform(X_train)\n",
    "X_poly_test = poly_feature_3.fit_transform(X_test)\n",
    "#print(X_train[0], X_poly_train[0])\n",
    "poly_3_reg = LinearRegression()\n",
    "poly_3_reg.fit(X_poly_train, y_train)\n",
    "print(poly_3_reg.intercept_, poly_3_reg.coef_)\n",
    "print(poly_3_reg.predict(poly_feature_3.fit_transform([[0],[2]])))\n",
    "print(poly_3_reg.coef_[0][1] * 2**2 + poly_3_reg.coef_[0][0] * 2 + poly_3_reg.intercept_[0])\n",
    "\n",
    "poly3_train_mse = mean_squared_error(y_train, poly_3_reg.predict(X_poly_train))\n",
    "poly3_test_mse = mean_squared_error(y_test, poly_3_reg.predict(X_poly_test))\n",
    "print(poly3_train_mse, poly3_test_mse)\n",
    "\n",
    "import matplotlib.pyplot as plt\n",
    "X_sort = pd.Series(X_test.flatten()).sort_values()\n",
    "y_sort = pd.Series((poly_3_reg.predict(X_poly_test)).flatten()).reindex(X_sort.index)\n",
    "plt.plot(X_sort, y_sort)"
   ]
  },
  {
   "cell_type": "code",
   "execution_count": 284,
   "id": "297161fe-6594-4a24-b752-c3ba270c2ac1",
   "metadata": {},
   "outputs": [
    {
     "name": "stdout",
     "output_type": "stream",
     "text": [
      "[-1.81907395] [[-3.20116375  1.66307809  1.91630216  0.90184051]]\n",
      "[[-1.81907395]\n",
      " [28.19077626]]\n",
      "-1.5690890881678579\n",
      "66.98594936500216 61.88897127638041\n"
     ]
    },
    {
     "data": {
      "text/plain": [
       "[<matplotlib.lines.Line2D at 0x26743bd0430>]"
      ]
     },
     "execution_count": 284,
     "metadata": {},
     "output_type": "execute_result"
    },
    {
     "data": {
      "image/png": "[encoded data removed]",
      "text/plain": [
       "<Figure size 432x288 with 1 Axes>"
      ]
     },
     "metadata": {
      "needs_background": "light"
     },
     "output_type": "display_data"
    }
   ],
   "source": [
    "from sklearn.preprocessing import PolynomialFeatures\n",
    "poly_feature_4 = PolynomialFeatures(degree=4, include_bias=False)\n",
    "X_poly_train = poly_feature_4.fit_transform(X_train)\n",
    "X_poly_test = poly_feature_4.fit_transform(X_test)\n",
    "#print(X_train[0], X_poly_train[0])\n",
    "poly_4_reg = LinearRegression()\n",
    "poly_4_reg.fit(X_poly_train, y_train)\n",
    "print(poly_4_reg.intercept_, poly_4_reg.coef_)\n",
    "print(poly_4_reg.predict(poly_feature_4.fit_transform([[0],[2]])))\n",
    "print(poly_4_reg.coef_[0][1] * 2**2 + poly_4_reg.coef_[0][0] * 2 + poly_4_reg.intercept_[0])\n",
    "\n",
    "poly4_train_mse = mean_squared_error(y_train, poly_4_reg.predict(X_poly_train))\n",
    "poly4_test_mse = mean_squared_error(y_test, poly_4_reg.predict(X_poly_test))\n",
    "print(poly4_train_mse, poly4_test_mse)\n",
    "\n",
    "import matplotlib.pyplot as plt\n",
    "X_sort = pd.Series(X_test.flatten()).sort_values()\n",
    "y_sort = pd.Series((poly_4_reg.predict(X_poly_test)).flatten()).reindex(X_sort.index)\n",
    "plt.plot(X_sort, y_sort)"
   ]
  },
  {
   "cell_type": "code",
   "execution_count": 285,
   "id": "45656b6a-e54f-4572-9c80-e52573366bf2",
   "metadata": {},
   "outputs": [
    {
     "name": "stdout",
     "output_type": "stream",
     "text": [
      "[-0.76868961] [-0.76868961  0.59088372 -0.45420617  0.34914357 -0.26838303]\n",
      "[-1.80905666] [[-2.68423523  1.60944045  1.5192617   0.9138287   0.05834992]]\n",
      "[[-1.80905666]\n",
      " [27.90278485]]\n",
      "-0.739765309405537\n",
      "66.94274252943715 62.50334026240942\n"
     ]
    },
    {
     "data": {
      "text/plain": [
       "[<matplotlib.lines.Line2D at 0x26743c37130>]"
      ]
     },
     "execution_count": 285,
     "metadata": {},
     "output_type": "execute_result"
    },
    {
     "data": {
      "image/png": "[encoded data removed]",
      "text/plain": [
       "<Figure size 432x288 with 1 Axes>"
      ]
     },
     "metadata": {
      "needs_background": "light"
     },
     "output_type": "display_data"
    }
   ],
   "source": [
    "from sklearn.preprocessing import PolynomialFeatures\n",
    "poly_feature_5 = PolynomialFeatures(degree=5, include_bias=False)\n",
    "X_poly_train = poly_feature_5.fit_transform(X_train)\n",
    "X_poly_test = poly_feature_5.fit_transform(X_test)\n",
    "print(X_train[0], X_poly_train[0])\n",
    "poly_5_reg = LinearRegression()\n",
    "poly_5_reg.fit(X_poly_train, y_train)\n",
    "print(poly_5_reg.intercept_, poly_5_reg.coef_)\n",
    "print(poly_5_reg.predict(poly_feature_5.fit_transform([[0],[2]])))\n",
    "print(poly_5_reg.coef_[0][1] * 2**2 + poly_5_reg.coef_[0][0] * 2 + poly_5_reg.intercept_[0])\n",
    "\n",
    "poly5_train_mse = mean_squared_error(y_train, poly_5_reg.predict((X_poly_train)))\n",
    "poly5_test_mse = mean_squared_error(y_test, poly_5_reg.predict((X_poly_test)))\n",
    "print(poly5_train_mse, poly5_test_mse)\n",
    "import matplotlib.pyplot as plt\n",
    "X_sort = pd.Series(X_test.flatten()).sort_values()\n",
    "y_sort = pd.Series((poly_5_reg.predict(X_poly_test)).flatten()).reindex(X_sort.index)\n",
    "plt.plot(X_sort, y_sort)"
   ]
  },
  {
   "cell_type": "code",
   "execution_count": 286,
   "id": "498006fa",
   "metadata": {
    "pycharm": {
     "name": "#%%\n"
    }
   },
   "outputs": [
    {
     "name": "stdout",
     "output_type": "stream",
     "text": [
      "             train_mse    test_mse\n",
      "lin_reg     241.287951  242.127488\n",
      "knn_3_reg    53.287384   82.990788\n",
      "knn_5_reg    64.192593   64.192593\n",
      "poly_2_reg   90.448690   83.703322\n",
      "poly_3_reg   73.364707   74.787188\n",
      "poly_4_reg   66.985949   61.888971\n",
      "poly_5_reg   66.942743   62.503340\n"
     ]
    }
   ],
   "source": [
    "\n",
    "\n",
    "mse_list = [[lin_train_mse, lin_test_mse], [knn3_train_mse, knn3_test_mse], [knn5_test_mse, knn5_test_mse], [poly2_train_mse, poly2_test_mse], [poly3_train_mse, poly3_test_mse], [poly4_train_mse, poly4_test_mse], [poly5_train_mse, poly5_test_mse]]\n",
    "\n",
    "mse_df = pd.DataFrame(mse_list, index=[\"lin_reg\", \"knn_3_reg\", \"knn_5_reg\", \"poly_2_reg\", \"poly_3_reg\", \"poly_4_reg\", \"poly_5_reg\"], columns=[\"train_mse\", \"test_mse\"])\n",
    "print(mse_df)\n",
    "import pickle\n",
    "with open('mse.pkl', 'wb') as fp:\n",
    "    pickle.dump(mse_df, fp)\n"
   ]
  },
  {
   "cell_type": "code",
   "execution_count": 287,
   "id": "4ef11b95-d80f-4201-a636-b4c62c2bd8e0",
   "metadata": {},
   "outputs": [
    {
     "name": "stdout",
     "output_type": "stream",
     "text": [
      "[(LinearRegression(), None), (KNeighborsRegressor(n_neighbors=3), None), (KNeighborsRegressor(), None), (LinearRegression(), PolynomialFeatures(include_bias=False)), (LinearRegression(), PolynomialFeatures(degree=3, include_bias=False)), (LinearRegression(), PolynomialFeatures(degree=4, include_bias=False)), (LinearRegression(), PolynomialFeatures(degree=5, include_bias=False))]\n"
     ]
    }
   ],
   "source": [
    "reg = list()\n",
    "reg.append((lin_reg, None))\n",
    "reg.append((knn_3_reg, None))\n",
    "reg.append((knn_5_reg, None))\n",
    "reg.append((poly_2_reg, poly_feature_2))\n",
    "reg.append((poly_3_reg, poly_feature_3))\n",
    "reg.append((poly_4_reg, poly_feature_4))\n",
    "reg.append((poly_5_reg, poly_feature_5))\n",
    "print(reg)\n",
    "with open('reg.pkl', 'wb') as fp:\n",
    "    pickle.dump(reg, fp)"
   ]
  }
 ],
 "metadata": {
  "kernelspec": {
   "display_name": "Python 3 (ipykernel)",
   "language": "python",
   "name": "python3"
  },
  "language_info": {
   "codemirror_mode": {
    "name": "ipython",
    "version": 3
   },
   "file_extension": ".py",
   "mimetype": "text/x-python",
   "name": "python",
   "nbconvert_exporter": "python",
   "pygments_lexer": "ipython3",
   "version": "3.9.9"
  }
 },
 "nbformat": 4,
 "nbformat_minor": 5
}